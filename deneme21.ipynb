{
 "cells": [
  {
   "cell_type": "code",
   "execution_count": 54,
   "id": "f2ea7dad",
   "metadata": {},
   "outputs": [],
   "source": [
    "import numpy as np\n",
    "import pandas as pd\n",
    "import matplotlib.pyplot as plt\n",
    "import seaborn as sns\n",
    "%matplotlib inline\n",
    "import warnings"
   ]
  },
  {
   "cell_type": "code",
   "execution_count": 55,
   "id": "804d9f5d",
   "metadata": {},
   "outputs": [],
   "source": [
    "data = pd.read_csv('../Cyber_salaries.csv')"
   ]
  },
  {
   "cell_type": "code",
   "execution_count": 56,
   "id": "54dbfdc2",
   "metadata": {},
   "outputs": [],
   "source": [
    "warnings.filterwarnings('ignore')"
   ]
  },
  {
   "cell_type": "code",
   "execution_count": 57,
   "id": "d5404c26",
   "metadata": {},
   "outputs": [],
   "source": [
    "data.drop(['salary','salary_currency'],inplace = True, axis = 1)"
   ]
  },
  {
   "cell_type": "code",
   "execution_count": 58,
   "id": "c8a553e5",
   "metadata": {},
   "outputs": [],
   "source": [
    "data.drop(['company_size','remote_ratio','work_year'],inplace = True, axis = 1) "
   ]
  },
  {
   "cell_type": "code",
   "execution_count": 59,
   "id": "d793caa5",
   "metadata": {},
   "outputs": [
    {
     "name": "stdout",
     "output_type": "stream",
     "text": [
      "Old Shape:  (1349, 6)\n"
     ]
    }
   ],
   "source": [
    "Q1 = np.percentile(data[\"salary_in_usd\"], 25, interpolation = \"midpoint\")\n",
    "Q3 = np.percentile(data['salary_in_usd'], 75, interpolation = \"midpoint\")\n",
    "IQR = Q3-Q1\n",
    "print('Old Shape: ',data.shape)"
   ]
  },
  {
   "cell_type": "code",
   "execution_count": 60,
   "id": "5f65b3b5",
   "metadata": {},
   "outputs": [],
   "source": [
    "# upper bound\n",
    "upper =np.where(data[\"salary_in_usd\"] >= (Q3+1.5*IQR))\n",
    "# lower bound\n",
    "lower = np.where(data['salary_in_usd'] <= (Q1-1.5*IQR))"
   ]
  },
  {
   "cell_type": "code",
   "execution_count": 61,
   "id": "ccc1713b",
   "metadata": {},
   "outputs": [
    {
     "name": "stdout",
     "output_type": "stream",
     "text": [
      "New Shape (1311, 6)\n"
     ]
    }
   ],
   "source": [
    "data.drop(upper[0],inplace=True)\n",
    "data.drop(lower[0],inplace=True)\n",
    "print('New Shape', data.shape)"
   ]
  },
  {
   "cell_type": "code",
   "execution_count": 62,
   "id": "b5165911",
   "metadata": {},
   "outputs": [],
   "source": [
    "for label, content in data.items():\n",
    "    if pd.api.types.is_string_dtype(content):\n",
    "        data[label] = content.astype('category').cat.as_ordered()"
   ]
  },
  {
   "cell_type": "code",
   "execution_count": 63,
   "id": "e75caf34",
   "metadata": {
    "scrolled": true
   },
   "outputs": [
    {
     "data": {
      "text/plain": [
       "experience_level      category\n",
       "employment_type       category\n",
       "job_title             category\n",
       "salary_in_usd            int64\n",
       "employee_residence    category\n",
       "company_location      category\n",
       "dtype: object"
      ]
     },
     "execution_count": 63,
     "metadata": {},
     "output_type": "execute_result"
    }
   ],
   "source": [
    "data.dtypes"
   ]
  },
  {
   "cell_type": "code",
   "execution_count": 64,
   "id": "a62d5d56",
   "metadata": {},
   "outputs": [],
   "source": [
    "newdf = data.copy()"
   ]
  },
  {
   "cell_type": "code",
   "execution_count": 146,
   "id": "fbbcaef3",
   "metadata": {
    "scrolled": true
   },
   "outputs": [
    {
     "data": {
      "text/html": [
       "<div>\n",
       "<style scoped>\n",
       "    .dataframe tbody tr th:only-of-type {\n",
       "        vertical-align: middle;\n",
       "    }\n",
       "\n",
       "    .dataframe tbody tr th {\n",
       "        vertical-align: top;\n",
       "    }\n",
       "\n",
       "    .dataframe thead th {\n",
       "        text-align: right;\n",
       "    }\n",
       "</style>\n",
       "<table border=\"1\" class=\"dataframe\">\n",
       "  <thead>\n",
       "    <tr style=\"text-align: right;\">\n",
       "      <th></th>\n",
       "      <th>experience_level</th>\n",
       "      <th>employment_type</th>\n",
       "      <th>job_title</th>\n",
       "      <th>salary_in_usd</th>\n",
       "      <th>employee_residence</th>\n",
       "      <th>company_location</th>\n",
       "    </tr>\n",
       "  </thead>\n",
       "  <tbody>\n",
       "    <tr>\n",
       "      <th>0</th>\n",
       "      <td>EN</td>\n",
       "      <td>FT</td>\n",
       "      <td>Information Security Officer</td>\n",
       "      <td>72762</td>\n",
       "      <td>DE</td>\n",
       "      <td>DE</td>\n",
       "    </tr>\n",
       "    <tr>\n",
       "      <th>1</th>\n",
       "      <td>SE</td>\n",
       "      <td>FT</td>\n",
       "      <td>Security Officer</td>\n",
       "      <td>123400</td>\n",
       "      <td>US</td>\n",
       "      <td>US</td>\n",
       "    </tr>\n",
       "    <tr>\n",
       "      <th>2</th>\n",
       "      <td>SE</td>\n",
       "      <td>FT</td>\n",
       "      <td>Security Officer</td>\n",
       "      <td>88100</td>\n",
       "      <td>US</td>\n",
       "      <td>US</td>\n",
       "    </tr>\n",
       "    <tr>\n",
       "      <th>3</th>\n",
       "      <td>SE</td>\n",
       "      <td>FT</td>\n",
       "      <td>Security Engineer</td>\n",
       "      <td>163575</td>\n",
       "      <td>US</td>\n",
       "      <td>US</td>\n",
       "    </tr>\n",
       "    <tr>\n",
       "      <th>4</th>\n",
       "      <td>SE</td>\n",
       "      <td>FT</td>\n",
       "      <td>Security Engineer</td>\n",
       "      <td>115800</td>\n",
       "      <td>US</td>\n",
       "      <td>US</td>\n",
       "    </tr>\n",
       "  </tbody>\n",
       "</table>\n",
       "</div>"
      ],
      "text/plain": [
       "  experience_level employment_type                     job_title  \\\n",
       "0               EN              FT  Information Security Officer   \n",
       "1               SE              FT              Security Officer   \n",
       "2               SE              FT              Security Officer   \n",
       "3               SE              FT             Security Engineer   \n",
       "4               SE              FT             Security Engineer   \n",
       "\n",
       "   salary_in_usd employee_residence company_location  \n",
       "0          72762                 DE               DE  \n",
       "1         123400                 US               US  \n",
       "2          88100                 US               US  \n",
       "3         163575                 US               US  \n",
       "4         115800                 US               US  "
      ]
     },
     "execution_count": 146,
     "metadata": {},
     "output_type": "execute_result"
    }
   ],
   "source": [
    "newdf.head()"
   ]
  },
  {
   "cell_type": "code",
   "execution_count": 65,
   "id": "06810aec",
   "metadata": {},
   "outputs": [],
   "source": [
    "from sklearn.preprocessing import LabelEncoder\n"
   ]
  },
  {
   "cell_type": "code",
   "execution_count": 66,
   "id": "88c7eee7",
   "metadata": {},
   "outputs": [],
   "source": [
    "encoder = LabelEncoder()"
   ]
  },
  {
   "cell_type": "code",
   "execution_count": 67,
   "id": "16397a97",
   "metadata": {},
   "outputs": [],
   "source": [
    "encoder = LabelEncoder()\n",
    "\n",
    "data[\"experience_level\"] = encoder.fit_transform(data[\"experience_level\"])\n",
    "experience_level_dict = dict(zip(encoder.classes_, encoder.transform(encoder.classes_)))\n",
    "\n",
    "data[\"employment_type\"] = encoder.fit_transform(data[\"employment_type\"])\n",
    "employment_type_dict = dict(zip(encoder.classes_, encoder.transform(encoder.classes_)))\n",
    "\n",
    "data[\"job_title\"] = encoder.fit_transform(data[\"job_title\"])\n",
    "job_title_dict = dict(zip(encoder.classes_, encoder.transform(encoder.classes_)))\n",
    "\n",
    "data[\"employee_residence\"] = encoder.fit_transform(data[\"employee_residence\"])\n",
    "employee_residence_dict = dict(zip(encoder.classes_, encoder.transform(encoder.classes_)))\n",
    "\n",
    "data[\"company_location\"] = encoder.fit_transform(data[\"company_location\"])\n",
    "company_location_dict = dict(zip(encoder.classes_, encoder.transform(encoder.classes_)))"
   ]
  },
  {
   "cell_type": "code",
   "execution_count": 68,
   "id": "c0c9f71c",
   "metadata": {},
   "outputs": [
    {
     "data": {
      "text/plain": [
       "{'CT': 0, 'FL': 1, 'FT': 2, 'PT': 3}"
      ]
     },
     "execution_count": 68,
     "metadata": {},
     "output_type": "execute_result"
    }
   ],
   "source": [
    "employment_type_dict"
   ]
  },
  {
   "cell_type": "code",
   "execution_count": 69,
   "id": "910f2f10",
   "metadata": {},
   "outputs": [
    {
     "data": {
      "text/plain": [
       "{'Application Security Analyst': 0,\n",
       " 'Application Security Engineer': 1,\n",
       " 'Application Security Specialist': 2,\n",
       " 'Azure Security Engineer': 3,\n",
       " 'Chief Information Security Officer': 4,\n",
       " 'Cloud Security Architect': 5,\n",
       " 'Cloud Security Engineer': 6,\n",
       " 'Cloud Security Engineering Manager': 7,\n",
       " 'Computer Forensic Software Engineer': 8,\n",
       " 'Concierge Security Engineer': 9,\n",
       " 'Corporate Infrastructure Security Engineer': 10,\n",
       " 'Corporate Security Engineer': 11,\n",
       " 'Cyber Program Manager': 12,\n",
       " 'Cyber Security Analyst': 13,\n",
       " 'Cyber Security Architect': 14,\n",
       " 'Cyber Security Consultant': 15,\n",
       " 'Cyber Security Engineer': 16,\n",
       " 'Cyber Security Researcher': 17,\n",
       " 'Cyber Security Specialist': 18,\n",
       " 'Cyber Security Training Specialist': 19,\n",
       " 'Cyber Threat Analyst': 20,\n",
       " 'Cyber Threat Intelligence Analyst': 21,\n",
       " 'Data Security Analyst': 22,\n",
       " 'Detection Engineer': 23,\n",
       " 'DevOps Security Engineer': 24,\n",
       " 'DevSecOps Engineer': 25,\n",
       " 'Digital Forensics Analyst': 26,\n",
       " 'Director of Information Security': 27,\n",
       " 'Enterprise Security Engineer': 28,\n",
       " 'Ethical Hacker': 29,\n",
       " 'Head of Information Security': 30,\n",
       " 'Head of Security': 31,\n",
       " 'IAM Engineer': 32,\n",
       " 'IT Security Analyst': 33,\n",
       " 'IT Security Engineer': 34,\n",
       " 'IT Security Manager': 35,\n",
       " 'Incident Response Analyst': 36,\n",
       " 'Incident Response Lead': 37,\n",
       " 'Incident Response Manager': 38,\n",
       " 'Information Security Analyst': 39,\n",
       " 'Information Security Architect': 40,\n",
       " 'Information Security Compliance Analyst': 41,\n",
       " 'Information Security Compliance Lead': 42,\n",
       " 'Information Security Compliance Manager': 43,\n",
       " 'Information Security Engineer': 44,\n",
       " 'Information Security Manager': 45,\n",
       " 'Information Security Officer': 46,\n",
       " 'Information Security Specialist': 47,\n",
       " 'Information Systems Security Engineer': 48,\n",
       " 'Infrastructure Security Engineer': 49,\n",
       " 'Lead Application Security Engineer': 50,\n",
       " 'Lead Information Security Engineer': 51,\n",
       " 'Lead Security Engineer': 52,\n",
       " 'Network Security Engineer': 53,\n",
       " 'Network and Security Engineer': 54,\n",
       " 'Offensive Security Engineer': 55,\n",
       " 'Penetration Tester': 56,\n",
       " 'Penetration Testing Engineer': 57,\n",
       " 'Principal Application Security Engineer': 58,\n",
       " 'Principal Cloud Security Engineer': 59,\n",
       " 'Principal Security Engineer': 60,\n",
       " 'Privacy Manager': 61,\n",
       " 'Product Security Engineer': 62,\n",
       " 'SOC Analyst': 63,\n",
       " 'Security Analyst': 64,\n",
       " 'Security Consultant': 65,\n",
       " 'Security DevOps Engineer': 66,\n",
       " 'Security Engineer': 67,\n",
       " 'Security Engineering Manager': 68,\n",
       " 'Security Incident Response Engineer': 69,\n",
       " 'Security Officer': 70,\n",
       " 'Security Officer 3': 71,\n",
       " 'Security Operations Analyst': 72,\n",
       " 'Security Operations Engineer': 73,\n",
       " 'Security Researcher': 74,\n",
       " 'Security Specialist': 75,\n",
       " 'Software Security Engineer': 76,\n",
       " 'Staff Application Security Engineer': 77,\n",
       " 'Staff Security Engineer': 78,\n",
       " 'Threat Hunter': 79,\n",
       " 'Threat Hunting Lead': 80,\n",
       " 'Threat Intelligence Analyst': 81,\n",
       " 'Threat Intelligence Response Analyst': 82,\n",
       " 'Vulnerability Analyst': 83,\n",
       " 'Vulnerability Management Engineer': 84,\n",
       " 'Vulnerability Researcher': 85}"
      ]
     },
     "execution_count": 69,
     "metadata": {},
     "output_type": "execute_result"
    }
   ],
   "source": [
    "job_title_dict"
   ]
  },
  {
   "cell_type": "code",
   "execution_count": 70,
   "id": "58d896ae",
   "metadata": {},
   "outputs": [],
   "source": [
    "X = data.drop([\"salary_in_usd\"], axis=1)\n",
    "y = data[\"salary_in_usd\"]"
   ]
  },
  {
   "cell_type": "code",
   "execution_count": 71,
   "id": "7aff0a3d",
   "metadata": {},
   "outputs": [],
   "source": [
    "from sklearn.model_selection import train_test_split\n",
    "from sklearn.ensemble import RandomForestRegressor\n",
    "from sklearn.metrics import r2_score"
   ]
  },
  {
   "cell_type": "code",
   "execution_count": 72,
   "id": "edd147f3",
   "metadata": {},
   "outputs": [],
   "source": [
    "X_train, X_test, y_train, y_test = train_test_split(X, y, test_size=0.3, random_state=42)"
   ]
  },
  {
   "cell_type": "code",
   "execution_count": 73,
   "id": "1f1b653b",
   "metadata": {},
   "outputs": [],
   "source": [
    "rfr = RandomForestRegressor(n_estimators=100, random_state=42)"
   ]
  },
  {
   "cell_type": "code",
   "execution_count": 74,
   "id": "b3a358e5",
   "metadata": {},
   "outputs": [
    {
     "data": {
      "text/plain": [
       "RandomForestRegressor(random_state=42)"
      ]
     },
     "execution_count": 74,
     "metadata": {},
     "output_type": "execute_result"
    }
   ],
   "source": [
    "rfr.fit(X, y)\n"
   ]
  },
  {
   "cell_type": "code",
   "execution_count": 75,
   "id": "908be7a9",
   "metadata": {},
   "outputs": [],
   "source": [
    "train_preds = rfr.predict(X)\n"
   ]
  },
  {
   "cell_type": "code",
   "execution_count": 76,
   "id": "0138a8d1",
   "metadata": {},
   "outputs": [],
   "source": [
    "train_r2 = r2_score(y, train_preds)"
   ]
  },
  {
   "cell_type": "code",
   "execution_count": 77,
   "id": "f89d3a11",
   "metadata": {},
   "outputs": [
    {
     "name": "stdout",
     "output_type": "stream",
     "text": [
      "Eğitim verileri için R-squared skoru: 0.72\n"
     ]
    }
   ],
   "source": [
    "print(\"Eğitim verileri için R-squared skoru: {:.2f}\".format(train_r2))"
   ]
  },
  {
   "cell_type": "code",
   "execution_count": 78,
   "id": "584f09fc",
   "metadata": {},
   "outputs": [
    {
     "name": "stdout",
     "output_type": "stream",
     "text": [
      "R-squared score: 0.7250048069141037\n"
     ]
    }
   ],
   "source": [
    "y_pred = rfr.predict(X_test)\n",
    "r2 = r2_score(y_test, y_pred)\n",
    "print('R-squared score:', r2)\n"
   ]
  },
  {
   "cell_type": "code",
   "execution_count": 149,
   "id": "fd41ed4a",
   "metadata": {},
   "outputs": [],
   "source": [
    "#param_grid = {\n",
    "#    'n_estimators': [50, 100, 200, 300, 400, 500, 600, 700, 800, 900, 1000],\n",
    "#    'max_features': ['auto', 'sqrt', 'log2',3,5,10,15],\n",
    "#    'max_depth' : [4,5,6,7,8,9,10,11,12,13,14,15],\n",
    "#    'criterion' :['mse', 'mae']\n",
    "#}"
   ]
  },
  {
   "cell_type": "code",
   "execution_count": 80,
   "id": "9cb38baa",
   "metadata": {},
   "outputs": [],
   "source": [
    "from sklearn.model_selection import GridSearchCV"
   ]
  },
  {
   "cell_type": "code",
   "execution_count": 82,
   "id": "70875c86",
   "metadata": {},
   "outputs": [
    {
     "name": "stdout",
     "output_type": "stream",
     "text": [
      "Train R2 score: 0.721943694590161\n"
     ]
    }
   ],
   "source": [
    "y_train_pred = rfr.predict(X_train)\n",
    "r2_train = r2_score(y_train, y_train_pred)\n",
    "print(\"Train R2 score:\", r2_train)\n"
   ]
  },
  {
   "cell_type": "code",
   "execution_count": 83,
   "id": "09bdfbf2",
   "metadata": {},
   "outputs": [
    {
     "name": "stdout",
     "output_type": "stream",
     "text": [
      "Test R2 score: 0.7250048069141037\n"
     ]
    }
   ],
   "source": [
    "y_test_pred = rfr.predict(X_test)\n",
    "r2_test = r2_score(y_test, y_test_pred)\n",
    "print(\"Test R2 score:\", r2_test)"
   ]
  },
  {
   "cell_type": "code",
   "execution_count": 86,
   "id": "a083f824",
   "metadata": {},
   "outputs": [
    {
     "name": "stdout",
     "output_type": "stream",
     "text": [
      "Train MSE: 791372975.9860066\n",
      "Test MSE: 830315459.7265594\n",
      "Train MAE: 20575.618305509346\n",
      "Test MAE: 20822.340443263318\n",
      "Train R2 score: 0.721943694590161\n",
      "Test R2 score: 0.7250048069141037\n"
     ]
    }
   ],
   "source": [
    "from sklearn.metrics import mean_squared_error, mean_absolute_error\n",
    "\n",
    "y_train_pred = rfr.predict(X_train)\n",
    "y_test_pred = rfr.predict(X_test)\n",
    "\n",
    "train_mse = mean_squared_error(y_train, y_train_pred)\n",
    "test_mse = mean_squared_error(y_test, y_test_pred)\n",
    "\n",
    "train_mae = mean_absolute_error(y_train, y_train_pred)\n",
    "test_mae = mean_absolute_error(y_test, y_test_pred)\n",
    "\n",
    "print(\"Train MSE:\", train_mse)\n",
    "print(\"Test MSE:\", test_mse)\n",
    "\n",
    "print(\"Train MAE:\", train_mae)\n",
    "print(\"Test MAE:\", test_mae)\n",
    "\n",
    "y_train_pred = rfr.predict(X_train)\n",
    "r2_train = r2_score(y_train, y_train_pred)\n",
    "print(\"Train R2 score:\", r2_train)\n",
    "\n",
    "\n",
    "y_test_pred = rfr.predict(X_test)\n",
    "r2_test = r2_score(y_test, y_test_pred)\n",
    "print(\"Test R2 score:\", r2_test)"
   ]
  },
  {
   "cell_type": "code",
   "execution_count": 138,
   "id": "b28bcd08",
   "metadata": {},
   "outputs": [
    {
     "name": "stdout",
     "output_type": "stream",
     "text": [
      "Enter experience level: EN\n",
      "Enter employment type: FT\n",
      "Enter job title: Security Engineer\n",
      "Enter employee residence: US\n",
      "Enter company location: US\n"
     ]
    }
   ],
   "source": [
    "#kullanıcıdan değer alma\n",
    "experience_level = input(\"Enter experience level: \")\n",
    "employment_type = input(\"Enter employment type: \")\n",
    "job_title = input(\"Enter job title: \")\n",
    "employee_residence = input(\"Enter employee residence: \")\n",
    "company_location = input(\"Enter company location: \")"
   ]
  },
  {
   "cell_type": "code",
   "execution_count": 139,
   "id": "0a9ac88f",
   "metadata": {},
   "outputs": [],
   "source": [
    "#değerleri bir listeye dönüştürme\n",
    "user_inputs = [experience_level, employment_type, job_title, employee_residence, company_location]\n"
   ]
  },
  {
   "cell_type": "code",
   "execution_count": 140,
   "id": "23b64714",
   "metadata": {},
   "outputs": [
    {
     "name": "stdout",
     "output_type": "stream",
     "text": [
      "['EN', 'FT', 'Security Engineer', 'US', 'US']\n"
     ]
    }
   ],
   "source": [
    "print(user_inputs)"
   ]
  },
  {
   "cell_type": "code",
   "execution_count": 141,
   "id": "b026685d",
   "metadata": {},
   "outputs": [],
   "source": [
    "def convertinputs(inputsparam):\n",
    "    for i, val in enumerate(inputsparam):\n",
    "        if i == 0:\n",
    "            inputsparam[i] = experience_level_dict[val]\n",
    "        elif i == 1:\n",
    "            inputsparam[i] = employment_type_dict[val]\n",
    "        elif i == 2:\n",
    "            inputsparam[i] = job_title_dict[val]\n",
    "        elif i == 3:\n",
    "            inputsparam[i] = employee_residence_dict[val]\n",
    "        elif i == 4:\n",
    "            inputsparam[i] = company_location_dict[val]\n",
    "    return inputsparam"
   ]
  },
  {
   "cell_type": "code",
   "execution_count": 142,
   "id": "4577a7ef",
   "metadata": {
    "scrolled": true
   },
   "outputs": [
    {
     "data": {
      "text/plain": [
       "[0, 2, 67, 57, 54]"
      ]
     },
     "execution_count": 142,
     "metadata": {},
     "output_type": "execute_result"
    }
   ],
   "source": [
    "convertinputs(user_inputs)"
   ]
  },
  {
   "cell_type": "code",
   "execution_count": 143,
   "id": "ddb93ef2",
   "metadata": {},
   "outputs": [
    {
     "data": {
      "text/plain": [
       "[0, 2, 67, 57, 54]"
      ]
     },
     "execution_count": 143,
     "metadata": {},
     "output_type": "execute_result"
    }
   ],
   "source": [
    "user_inputs"
   ]
  },
  {
   "cell_type": "code",
   "execution_count": 144,
   "id": "1c4745cb",
   "metadata": {},
   "outputs": [
    {
     "name": "stdout",
     "output_type": "stream",
     "text": [
      "Tahmini maaş: $87215\n"
     ]
    }
   ],
   "source": [
    "input_data = [user_inputs]\n",
    "input_df = pd.DataFrame(input_data, columns=['experience_level', 'employment_type','job_title','employee_residence','company_location'])\n",
    "input_df = pd.get_dummies(input_df)\n",
    "prediction = rfr.predict(input_df)\n",
    "\n",
    "print(\"Tahmini maaş: ${:.0f}\".format(prediction[0]))"
   ]
  },
  {
   "cell_type": "code",
   "execution_count": 156,
   "id": "9b366f1f",
   "metadata": {},
   "outputs": [
    {
     "data": {
      "text/plain": [
       "Text(0, 0.5, 'Predicted Y')"
      ]
     },
     "execution_count": 156,
     "metadata": {},
     "output_type": "execute_result"
    },
    {
     "data": {
      "image/png": "[encoded data removed]",
      "text/plain": [
       "<Figure size 640x480 with 1 Axes>"
      ]
     },
     "metadata": {},
     "output_type": "display_data"
    }
   ],
   "source": [
    "plt.scatter(y_test,y_pred)\n",
    "plt.xlabel('Y Test')\n",
    "plt.ylabel('Predicted Y')\n",
    "#random forest regression"
   ]
  },
  {
   "cell_type": "code",
   "execution_count": null,
   "id": "a0e4928a",
   "metadata": {},
   "outputs": [],
   "source": []
  }
 ],
 "metadata": {
  "kernelspec": {
   "display_name": "Python 3 (ipykernel)",
   "language": "python",
   "name": "python3"
  },
  "language_info": {
   "codemirror_mode": {
    "name": "ipython",
    "version": 3
   },
   "file_extension": ".py",
   "mimetype": "text/x-python",
   "name": "python",
   "nbconvert_exporter": "python",
   "pygments_lexer": "ipython3",
   "version": "3.9.13"
  }
 },
 "nbformat": 4,
 "nbformat_minor": 5
}
