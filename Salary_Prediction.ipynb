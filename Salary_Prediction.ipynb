{
 "cells": [
  {
   "cell_type": "code",
   "execution_count": 707,
   "id": "981a62f5",
   "metadata": {},
   "outputs": [],
   "source": [
    "import numpy as np\n",
    "import pandas as pd\n",
    "import matplotlib.pyplot as plt\n",
    "import seaborn as sns\n",
    "%matplotlib inline\n",
    "import warnings"
   ]
  },
  {
   "cell_type": "code",
   "execution_count": 708,
   "id": "9f0ca2d4",
   "metadata": {},
   "outputs": [],
   "source": [
    "sl = pd.read_csv('../Cyber_salaries.csv')"
   ]
  },
  {
   "cell_type": "code",
   "execution_count": 709,
   "id": "79147543",
   "metadata": {
    "scrolled": false
   },
   "outputs": [
    {
     "data": {
      "text/html": [
       "<div>\n",
       "<style scoped>\n",
       "    .dataframe tbody tr th:only-of-type {\n",
       "        vertical-align: middle;\n",
       "    }\n",
       "\n",
       "    .dataframe tbody tr th {\n",
       "        vertical-align: top;\n",
       "    }\n",
       "\n",
       "    .dataframe thead th {\n",
       "        text-align: right;\n",
       "    }\n",
       "</style>\n",
       "<table border=\"1\" class=\"dataframe\">\n",
       "  <thead>\n",
       "    <tr style=\"text-align: right;\">\n",
       "      <th></th>\n",
       "      <th>work_year</th>\n",
       "      <th>experience_level</th>\n",
       "      <th>employment_type</th>\n",
       "      <th>job_title</th>\n",
       "      <th>salary</th>\n",
       "      <th>salary_currency</th>\n",
       "      <th>salary_in_usd</th>\n",
       "      <th>employee_residence</th>\n",
       "      <th>remote_ratio</th>\n",
       "      <th>company_location</th>\n",
       "      <th>company_size</th>\n",
       "    </tr>\n",
       "  </thead>\n",
       "  <tbody>\n",
       "    <tr>\n",
       "      <th>0</th>\n",
       "      <td>2022</td>\n",
       "      <td>EN</td>\n",
       "      <td>FT</td>\n",
       "      <td>Information Security Officer</td>\n",
       "      <td>68000</td>\n",
       "      <td>EUR</td>\n",
       "      <td>72762</td>\n",
       "      <td>DE</td>\n",
       "      <td>100</td>\n",
       "      <td>DE</td>\n",
       "      <td>S</td>\n",
       "    </tr>\n",
       "    <tr>\n",
       "      <th>1</th>\n",
       "      <td>2022</td>\n",
       "      <td>SE</td>\n",
       "      <td>FT</td>\n",
       "      <td>Security Officer</td>\n",
       "      <td>123400</td>\n",
       "      <td>USD</td>\n",
       "      <td>123400</td>\n",
       "      <td>US</td>\n",
       "      <td>0</td>\n",
       "      <td>US</td>\n",
       "      <td>M</td>\n",
       "    </tr>\n",
       "    <tr>\n",
       "      <th>2</th>\n",
       "      <td>2022</td>\n",
       "      <td>SE</td>\n",
       "      <td>FT</td>\n",
       "      <td>Security Officer</td>\n",
       "      <td>88100</td>\n",
       "      <td>USD</td>\n",
       "      <td>88100</td>\n",
       "      <td>US</td>\n",
       "      <td>0</td>\n",
       "      <td>US</td>\n",
       "      <td>M</td>\n",
       "    </tr>\n",
       "    <tr>\n",
       "      <th>3</th>\n",
       "      <td>2022</td>\n",
       "      <td>SE</td>\n",
       "      <td>FT</td>\n",
       "      <td>Security Engineer</td>\n",
       "      <td>163575</td>\n",
       "      <td>USD</td>\n",
       "      <td>163575</td>\n",
       "      <td>US</td>\n",
       "      <td>100</td>\n",
       "      <td>US</td>\n",
       "      <td>M</td>\n",
       "    </tr>\n",
       "    <tr>\n",
       "      <th>4</th>\n",
       "      <td>2022</td>\n",
       "      <td>SE</td>\n",
       "      <td>FT</td>\n",
       "      <td>Security Engineer</td>\n",
       "      <td>115800</td>\n",
       "      <td>USD</td>\n",
       "      <td>115800</td>\n",
       "      <td>US</td>\n",
       "      <td>100</td>\n",
       "      <td>US</td>\n",
       "      <td>M</td>\n",
       "    </tr>\n",
       "  </tbody>\n",
       "</table>\n",
       "</div>"
      ],
      "text/plain": [
       "   work_year experience_level employment_type                     job_title  \\\n",
       "0       2022               EN              FT  Information Security Officer   \n",
       "1       2022               SE              FT              Security Officer   \n",
       "2       2022               SE              FT              Security Officer   \n",
       "3       2022               SE              FT             Security Engineer   \n",
       "4       2022               SE              FT             Security Engineer   \n",
       "\n",
       "   salary salary_currency  salary_in_usd employee_residence  remote_ratio  \\\n",
       "0   68000             EUR          72762                 DE           100   \n",
       "1  123400             USD         123400                 US             0   \n",
       "2   88100             USD          88100                 US             0   \n",
       "3  163575             USD         163575                 US           100   \n",
       "4  115800             USD         115800                 US           100   \n",
       "\n",
       "  company_location company_size  \n",
       "0               DE            S  \n",
       "1               US            M  \n",
       "2               US            M  \n",
       "3               US            M  \n",
       "4               US            M  "
      ]
     },
     "execution_count": 709,
     "metadata": {},
     "output_type": "execute_result"
    }
   ],
   "source": [
    "sl.head()"
   ]
  },
  {
   "cell_type": "code",
   "execution_count": 714,
   "id": "cc568061",
   "metadata": {},
   "outputs": [
    {
     "ename": "KeyError",
     "evalue": "\"None of [Index(['Information Security Officer', 'Security Officer', 'Security Officer',\\n       'Security Engineer', 'Security Engineer',\\n       'Penetration Testing Engineer', 'Security Analyst', 'Security Analyst',\\n       'Security Engineer', 'Security Engineer',\\n       ...\\n       'Application Security Engineer', 'Information Security Specialist',\\n       'Application Security Engineer', 'Cyber Security Analyst',\\n       'Ethical Hacker', 'Cyber Security Analyst',\\n       'Information Security Manager', 'Penetration Testing Engineer',\\n       'Information Security Analyst', 'Threat Intelligence Analyst'],\\n      dtype='object', length=1349)] are in the [columns]\"",
     "output_type": "error",
     "traceback": [
      "\u001b[0;31m---------------------------------------------------------------------------\u001b[0m",
      "\u001b[0;31mKeyError\u001b[0m                                  Traceback (most recent call last)",
      "\u001b[0;32m/var/folders/jv/yvxky56d79b3tfm780gsj5z00000gn/T/ipykernel_59459/1113774899.py\u001b[0m in \u001b[0;36m<module>\u001b[0;34m\u001b[0m\n\u001b[0;32m----> 1\u001b[0;31m \u001b[0msl\u001b[0m\u001b[0;34m[\u001b[0m\u001b[0msl\u001b[0m\u001b[0;34m[\u001b[0m\u001b[0;34m\"job_title\"\u001b[0m\u001b[0;34m]\u001b[0m\u001b[0;34m]\u001b[0m\u001b[0;34m\u001b[0m\u001b[0;34m\u001b[0m\u001b[0m\n\u001b[0m",
      "\u001b[0;32m~/opt/anaconda3/lib/python3.9/site-packages/pandas/core/frame.py\u001b[0m in \u001b[0;36m__getitem__\u001b[0;34m(self, key)\u001b[0m\n\u001b[1;32m   3509\u001b[0m             \u001b[0;32mif\u001b[0m \u001b[0mis_iterator\u001b[0m\u001b[0;34m(\u001b[0m\u001b[0mkey\u001b[0m\u001b[0;34m)\u001b[0m\u001b[0;34m:\u001b[0m\u001b[0;34m\u001b[0m\u001b[0;34m\u001b[0m\u001b[0m\n\u001b[1;32m   3510\u001b[0m                 \u001b[0mkey\u001b[0m \u001b[0;34m=\u001b[0m \u001b[0mlist\u001b[0m\u001b[0;34m(\u001b[0m\u001b[0mkey\u001b[0m\u001b[0;34m)\u001b[0m\u001b[0;34m\u001b[0m\u001b[0;34m\u001b[0m\u001b[0m\n\u001b[0;32m-> 3511\u001b[0;31m             \u001b[0mindexer\u001b[0m \u001b[0;34m=\u001b[0m \u001b[0mself\u001b[0m\u001b[0;34m.\u001b[0m\u001b[0mcolumns\u001b[0m\u001b[0;34m.\u001b[0m\u001b[0m_get_indexer_strict\u001b[0m\u001b[0;34m(\u001b[0m\u001b[0mkey\u001b[0m\u001b[0;34m,\u001b[0m \u001b[0;34m\"columns\"\u001b[0m\u001b[0;34m)\u001b[0m\u001b[0;34m[\u001b[0m\u001b[0;36m1\u001b[0m\u001b[0;34m]\u001b[0m\u001b[0;34m\u001b[0m\u001b[0;34m\u001b[0m\u001b[0m\n\u001b[0m\u001b[1;32m   3512\u001b[0m \u001b[0;34m\u001b[0m\u001b[0m\n\u001b[1;32m   3513\u001b[0m         \u001b[0;31m# take() does not accept boolean indexers\u001b[0m\u001b[0;34m\u001b[0m\u001b[0;34m\u001b[0m\u001b[0m\n",
      "\u001b[0;32m~/opt/anaconda3/lib/python3.9/site-packages/pandas/core/indexes/base.py\u001b[0m in \u001b[0;36m_get_indexer_strict\u001b[0;34m(self, key, axis_name)\u001b[0m\n\u001b[1;32m   5794\u001b[0m             \u001b[0mkeyarr\u001b[0m\u001b[0;34m,\u001b[0m \u001b[0mindexer\u001b[0m\u001b[0;34m,\u001b[0m \u001b[0mnew_indexer\u001b[0m \u001b[0;34m=\u001b[0m \u001b[0mself\u001b[0m\u001b[0;34m.\u001b[0m\u001b[0m_reindex_non_unique\u001b[0m\u001b[0;34m(\u001b[0m\u001b[0mkeyarr\u001b[0m\u001b[0;34m)\u001b[0m\u001b[0;34m\u001b[0m\u001b[0;34m\u001b[0m\u001b[0m\n\u001b[1;32m   5795\u001b[0m \u001b[0;34m\u001b[0m\u001b[0m\n\u001b[0;32m-> 5796\u001b[0;31m         \u001b[0mself\u001b[0m\u001b[0;34m.\u001b[0m\u001b[0m_raise_if_missing\u001b[0m\u001b[0;34m(\u001b[0m\u001b[0mkeyarr\u001b[0m\u001b[0;34m,\u001b[0m \u001b[0mindexer\u001b[0m\u001b[0;34m,\u001b[0m \u001b[0maxis_name\u001b[0m\u001b[0;34m)\u001b[0m\u001b[0;34m\u001b[0m\u001b[0;34m\u001b[0m\u001b[0m\n\u001b[0m\u001b[1;32m   5797\u001b[0m \u001b[0;34m\u001b[0m\u001b[0m\n\u001b[1;32m   5798\u001b[0m         \u001b[0mkeyarr\u001b[0m \u001b[0;34m=\u001b[0m \u001b[0mself\u001b[0m\u001b[0;34m.\u001b[0m\u001b[0mtake\u001b[0m\u001b[0;34m(\u001b[0m\u001b[0mindexer\u001b[0m\u001b[0;34m)\u001b[0m\u001b[0;34m\u001b[0m\u001b[0;34m\u001b[0m\u001b[0m\n",
      "\u001b[0;32m~/opt/anaconda3/lib/python3.9/site-packages/pandas/core/indexes/base.py\u001b[0m in \u001b[0;36m_raise_if_missing\u001b[0;34m(self, key, indexer, axis_name)\u001b[0m\n\u001b[1;32m   5854\u001b[0m                 \u001b[0;32mif\u001b[0m \u001b[0muse_interval_msg\u001b[0m\u001b[0;34m:\u001b[0m\u001b[0;34m\u001b[0m\u001b[0;34m\u001b[0m\u001b[0m\n\u001b[1;32m   5855\u001b[0m                     \u001b[0mkey\u001b[0m \u001b[0;34m=\u001b[0m \u001b[0mlist\u001b[0m\u001b[0;34m(\u001b[0m\u001b[0mkey\u001b[0m\u001b[0;34m)\u001b[0m\u001b[0;34m\u001b[0m\u001b[0;34m\u001b[0m\u001b[0m\n\u001b[0;32m-> 5856\u001b[0;31m                 \u001b[0;32mraise\u001b[0m \u001b[0mKeyError\u001b[0m\u001b[0;34m(\u001b[0m\u001b[0;34mf\"None of [{key}] are in the [{axis_name}]\"\u001b[0m\u001b[0;34m)\u001b[0m\u001b[0;34m\u001b[0m\u001b[0;34m\u001b[0m\u001b[0m\n\u001b[0m\u001b[1;32m   5857\u001b[0m \u001b[0;34m\u001b[0m\u001b[0m\n\u001b[1;32m   5858\u001b[0m             \u001b[0mnot_found\u001b[0m \u001b[0;34m=\u001b[0m \u001b[0mlist\u001b[0m\u001b[0;34m(\u001b[0m\u001b[0mensure_index\u001b[0m\u001b[0;34m(\u001b[0m\u001b[0mkey\u001b[0m\u001b[0;34m)\u001b[0m\u001b[0;34m[\u001b[0m\u001b[0mmissing_mask\u001b[0m\u001b[0;34m.\u001b[0m\u001b[0mnonzero\u001b[0m\u001b[0;34m(\u001b[0m\u001b[0;34m)\u001b[0m\u001b[0;34m[\u001b[0m\u001b[0;36m0\u001b[0m\u001b[0;34m]\u001b[0m\u001b[0;34m]\u001b[0m\u001b[0;34m.\u001b[0m\u001b[0munique\u001b[0m\u001b[0;34m(\u001b[0m\u001b[0;34m)\u001b[0m\u001b[0;34m)\u001b[0m\u001b[0;34m\u001b[0m\u001b[0;34m\u001b[0m\u001b[0m\n",
      "\u001b[0;31mKeyError\u001b[0m: \"None of [Index(['Information Security Officer', 'Security Officer', 'Security Officer',\\n       'Security Engineer', 'Security Engineer',\\n       'Penetration Testing Engineer', 'Security Analyst', 'Security Analyst',\\n       'Security Engineer', 'Security Engineer',\\n       ...\\n       'Application Security Engineer', 'Information Security Specialist',\\n       'Application Security Engineer', 'Cyber Security Analyst',\\n       'Ethical Hacker', 'Cyber Security Analyst',\\n       'Information Security Manager', 'Penetration Testing Engineer',\\n       'Information Security Analyst', 'Threat Intelligence Analyst'],\\n      dtype='object', length=1349)] are in the [columns]\""
     ]
    }
   ],
   "source": [
    "sl"
   ]
  },
  {
   "cell_type": "code",
   "execution_count": 669,
   "id": "fe627113",
   "metadata": {
    "scrolled": true
   },
   "outputs": [
    {
     "data": {
      "text/plain": [
       "14839"
      ]
     },
     "execution_count": 669,
     "metadata": {},
     "output_type": "execute_result"
    }
   ],
   "source": [
    "sl.size"
   ]
  },
  {
   "cell_type": "code",
   "execution_count": 670,
   "id": "3f7aaf86",
   "metadata": {},
   "outputs": [
    {
     "data": {
      "text/plain": [
       "(1349, 11)"
      ]
     },
     "execution_count": 670,
     "metadata": {},
     "output_type": "execute_result"
    }
   ],
   "source": [
    "sl.shape"
   ]
  },
  {
   "cell_type": "code",
   "execution_count": null,
   "id": "9c330eae",
   "metadata": {},
   "outputs": [],
   "source": []
  },
  {
   "cell_type": "code",
   "execution_count": 671,
   "id": "47d757e8",
   "metadata": {
    "scrolled": true
   },
   "outputs": [
    {
     "name": "stdout",
     "output_type": "stream",
     "text": [
      "size: 14839\n",
      "shape: (1349, 11)\n"
     ]
    },
    {
     "data": {
      "text/html": [
       "<div>\n",
       "<style scoped>\n",
       "    .dataframe tbody tr th:only-of-type {\n",
       "        vertical-align: middle;\n",
       "    }\n",
       "\n",
       "    .dataframe tbody tr th {\n",
       "        vertical-align: top;\n",
       "    }\n",
       "\n",
       "    .dataframe thead th {\n",
       "        text-align: right;\n",
       "    }\n",
       "</style>\n",
       "<table border=\"1\" class=\"dataframe\">\n",
       "  <thead>\n",
       "    <tr style=\"text-align: right;\">\n",
       "      <th></th>\n",
       "      <th>count</th>\n",
       "      <th>mean</th>\n",
       "      <th>std</th>\n",
       "      <th>min</th>\n",
       "      <th>25%</th>\n",
       "      <th>50%</th>\n",
       "      <th>75%</th>\n",
       "      <th>max</th>\n",
       "    </tr>\n",
       "  </thead>\n",
       "  <tbody>\n",
       "    <tr>\n",
       "      <th>work_year</th>\n",
       "      <td>1349.0</td>\n",
       "      <td>2021.368421</td>\n",
       "      <td>7.112360e-01</td>\n",
       "      <td>2020.0</td>\n",
       "      <td>2021.0</td>\n",
       "      <td>2022.0</td>\n",
       "      <td>2022.0</td>\n",
       "      <td>2022.0</td>\n",
       "    </tr>\n",
       "    <tr>\n",
       "      <th>salary</th>\n",
       "      <td>1349.0</td>\n",
       "      <td>528824.761305</td>\n",
       "      <td>1.361367e+07</td>\n",
       "      <td>1740.0</td>\n",
       "      <td>80000.0</td>\n",
       "      <td>120000.0</td>\n",
       "      <td>160080.0</td>\n",
       "      <td>500000000.0</td>\n",
       "    </tr>\n",
       "    <tr>\n",
       "      <th>salary_in_usd</th>\n",
       "      <td>1349.0</td>\n",
       "      <td>121578.622683</td>\n",
       "      <td>6.897295e+04</td>\n",
       "      <td>2000.0</td>\n",
       "      <td>75000.0</td>\n",
       "      <td>115000.0</td>\n",
       "      <td>152000.0</td>\n",
       "      <td>899920.0</td>\n",
       "    </tr>\n",
       "    <tr>\n",
       "      <th>remote_ratio</th>\n",
       "      <td>1349.0</td>\n",
       "      <td>72.238695</td>\n",
       "      <td>3.935533e+01</td>\n",
       "      <td>0.0</td>\n",
       "      <td>50.0</td>\n",
       "      <td>100.0</td>\n",
       "      <td>100.0</td>\n",
       "      <td>100.0</td>\n",
       "    </tr>\n",
       "  </tbody>\n",
       "</table>\n",
       "</div>"
      ],
      "text/plain": [
       "                count           mean           std     min      25%       50%  \\\n",
       "work_year      1349.0    2021.368421  7.112360e-01  2020.0   2021.0    2022.0   \n",
       "salary         1349.0  528824.761305  1.361367e+07  1740.0  80000.0  120000.0   \n",
       "salary_in_usd  1349.0  121578.622683  6.897295e+04  2000.0  75000.0  115000.0   \n",
       "remote_ratio   1349.0      72.238695  3.935533e+01     0.0     50.0     100.0   \n",
       "\n",
       "                    75%          max  \n",
       "work_year        2022.0       2022.0  \n",
       "salary         160080.0  500000000.0  \n",
       "salary_in_usd  152000.0     899920.0  \n",
       "remote_ratio      100.0        100.0  "
      ]
     },
     "execution_count": 671,
     "metadata": {},
     "output_type": "execute_result"
    }
   ],
   "source": [
    "\n",
    "print(\"size:\",  sl.size)\n",
    "print(\"shape:\", sl.shape)\n",
    "sl.describe().T"
   ]
  },
  {
   "cell_type": "code",
   "execution_count": 672,
   "id": "908d91d3",
   "metadata": {},
   "outputs": [
    {
     "name": "stdout",
     "output_type": "stream",
     "text": [
      "<class 'pandas.core.frame.DataFrame'>\n",
      "RangeIndex: 1349 entries, 0 to 1348\n",
      "Data columns (total 11 columns):\n",
      " #   Column              Non-Null Count  Dtype \n",
      "---  ------              --------------  ----- \n",
      " 0   work_year           1349 non-null   int64 \n",
      " 1   experience_level    1349 non-null   object\n",
      " 2   employment_type     1349 non-null   object\n",
      " 3   job_title           1349 non-null   object\n",
      " 4   salary              1349 non-null   int64 \n",
      " 5   salary_currency     1349 non-null   object\n",
      " 6   salary_in_usd       1349 non-null   int64 \n",
      " 7   employee_residence  1349 non-null   object\n",
      " 8   remote_ratio        1349 non-null   int64 \n",
      " 9   company_location    1349 non-null   object\n",
      " 10  company_size        1349 non-null   object\n",
      "dtypes: int64(4), object(7)\n",
      "memory usage: 116.1+ KB\n"
     ]
    }
   ],
   "source": [
    "sl.info()"
   ]
  },
  {
   "cell_type": "code",
   "execution_count": 673,
   "id": "56da8767",
   "metadata": {},
   "outputs": [
    {
     "data": {
      "text/html": [
       "<div>\n",
       "<style scoped>\n",
       "    .dataframe tbody tr th:only-of-type {\n",
       "        vertical-align: middle;\n",
       "    }\n",
       "\n",
       "    .dataframe tbody tr th {\n",
       "        vertical-align: top;\n",
       "    }\n",
       "\n",
       "    .dataframe thead th {\n",
       "        text-align: right;\n",
       "    }\n",
       "</style>\n",
       "<table border=\"1\" class=\"dataframe\">\n",
       "  <thead>\n",
       "    <tr style=\"text-align: right;\">\n",
       "      <th></th>\n",
       "      <th>data_type</th>\n",
       "      <th>total_null_count</th>\n",
       "      <th>total_unique_count</th>\n",
       "    </tr>\n",
       "  </thead>\n",
       "  <tbody>\n",
       "    <tr>\n",
       "      <th>work_year</th>\n",
       "      <td>int64</td>\n",
       "      <td>0</td>\n",
       "      <td>3</td>\n",
       "    </tr>\n",
       "    <tr>\n",
       "      <th>experience_level</th>\n",
       "      <td>object</td>\n",
       "      <td>0</td>\n",
       "      <td>4</td>\n",
       "    </tr>\n",
       "    <tr>\n",
       "      <th>employment_type</th>\n",
       "      <td>object</td>\n",
       "      <td>0</td>\n",
       "      <td>4</td>\n",
       "    </tr>\n",
       "    <tr>\n",
       "      <th>job_title</th>\n",
       "      <td>object</td>\n",
       "      <td>0</td>\n",
       "      <td>87</td>\n",
       "    </tr>\n",
       "    <tr>\n",
       "      <th>salary</th>\n",
       "      <td>int64</td>\n",
       "      <td>0</td>\n",
       "      <td>416</td>\n",
       "    </tr>\n",
       "    <tr>\n",
       "      <th>salary_currency</th>\n",
       "      <td>object</td>\n",
       "      <td>0</td>\n",
       "      <td>21</td>\n",
       "    </tr>\n",
       "    <tr>\n",
       "      <th>salary_in_usd</th>\n",
       "      <td>int64</td>\n",
       "      <td>0</td>\n",
       "      <td>615</td>\n",
       "    </tr>\n",
       "    <tr>\n",
       "      <th>employee_residence</th>\n",
       "      <td>object</td>\n",
       "      <td>0</td>\n",
       "      <td>60</td>\n",
       "    </tr>\n",
       "    <tr>\n",
       "      <th>remote_ratio</th>\n",
       "      <td>int64</td>\n",
       "      <td>0</td>\n",
       "      <td>3</td>\n",
       "    </tr>\n",
       "    <tr>\n",
       "      <th>company_location</th>\n",
       "      <td>object</td>\n",
       "      <td>0</td>\n",
       "      <td>57</td>\n",
       "    </tr>\n",
       "    <tr>\n",
       "      <th>company_size</th>\n",
       "      <td>object</td>\n",
       "      <td>0</td>\n",
       "      <td>3</td>\n",
       "    </tr>\n",
       "  </tbody>\n",
       "</table>\n",
       "</div>"
      ],
      "text/plain": [
       "                   data_type  total_null_count  total_unique_count\n",
       "work_year              int64                 0                   3\n",
       "experience_level      object                 0                   4\n",
       "employment_type       object                 0                   4\n",
       "job_title             object                 0                  87\n",
       "salary                 int64                 0                 416\n",
       "salary_currency       object                 0                  21\n",
       "salary_in_usd          int64                 0                 615\n",
       "employee_residence    object                 0                  60\n",
       "remote_ratio           int64                 0                   3\n",
       "company_location      object                 0                  57\n",
       "company_size          object                 0                   3"
      ]
     },
     "execution_count": 673,
     "metadata": {},
     "output_type": "execute_result"
    }
   ],
   "source": [
    "info_t = pd.DataFrame(index=sl.columns)\n",
    "info_t['data_type'] = sl.dtypes\n",
    "info_t['total_null_count'] = sl.isnull().sum()\n",
    "info_t['total_unique_count'] = sl.nunique()\n",
    "info_t"
   ]
  },
  {
   "cell_type": "code",
   "execution_count": 674,
   "id": "816aaadd",
   "metadata": {},
   "outputs": [],
   "source": [
    "sl.drop(['salary','salary_currency'],inplace = True, axis = 1)"
   ]
  },
  {
   "cell_type": "code",
   "execution_count": 675,
   "id": "98fe771f",
   "metadata": {},
   "outputs": [
    {
     "data": {
      "text/html": [
       "<div>\n",
       "<style scoped>\n",
       "    .dataframe tbody tr th:only-of-type {\n",
       "        vertical-align: middle;\n",
       "    }\n",
       "\n",
       "    .dataframe tbody tr th {\n",
       "        vertical-align: top;\n",
       "    }\n",
       "\n",
       "    .dataframe thead th {\n",
       "        text-align: right;\n",
       "    }\n",
       "</style>\n",
       "<table border=\"1\" class=\"dataframe\">\n",
       "  <thead>\n",
       "    <tr style=\"text-align: right;\">\n",
       "      <th></th>\n",
       "      <th>work_year</th>\n",
       "      <th>experience_level</th>\n",
       "      <th>employment_type</th>\n",
       "      <th>job_title</th>\n",
       "      <th>salary_in_usd</th>\n",
       "      <th>employee_residence</th>\n",
       "      <th>remote_ratio</th>\n",
       "      <th>company_location</th>\n",
       "      <th>company_size</th>\n",
       "    </tr>\n",
       "  </thead>\n",
       "  <tbody>\n",
       "    <tr>\n",
       "      <th>0</th>\n",
       "      <td>2022</td>\n",
       "      <td>EN</td>\n",
       "      <td>FT</td>\n",
       "      <td>Information Security Officer</td>\n",
       "      <td>72762</td>\n",
       "      <td>DE</td>\n",
       "      <td>100</td>\n",
       "      <td>DE</td>\n",
       "      <td>S</td>\n",
       "    </tr>\n",
       "  </tbody>\n",
       "</table>\n",
       "</div>"
      ],
      "text/plain": [
       "   work_year experience_level employment_type                     job_title  \\\n",
       "0       2022               EN              FT  Information Security Officer   \n",
       "\n",
       "   salary_in_usd employee_residence  remote_ratio company_location  \\\n",
       "0          72762                 DE           100               DE   \n",
       "\n",
       "  company_size  \n",
       "0            S  "
      ]
     },
     "execution_count": 675,
     "metadata": {},
     "output_type": "execute_result"
    }
   ],
   "source": [
    "sl.head(1)"
   ]
  },
  {
   "cell_type": "code",
   "execution_count": 676,
   "id": "3c2200e2",
   "metadata": {},
   "outputs": [
    {
     "data": {
      "text/html": [
       "<div>\n",
       "<style scoped>\n",
       "    .dataframe tbody tr th:only-of-type {\n",
       "        vertical-align: middle;\n",
       "    }\n",
       "\n",
       "    .dataframe tbody tr th {\n",
       "        vertical-align: top;\n",
       "    }\n",
       "\n",
       "    .dataframe thead th {\n",
       "        text-align: right;\n",
       "    }\n",
       "</style>\n",
       "<table border=\"1\" class=\"dataframe\">\n",
       "  <thead>\n",
       "    <tr style=\"text-align: right;\">\n",
       "      <th></th>\n",
       "      <th>data_type</th>\n",
       "      <th>null_count</th>\n",
       "      <th>unique_count</th>\n",
       "    </tr>\n",
       "  </thead>\n",
       "  <tbody>\n",
       "    <tr>\n",
       "      <th>work_year</th>\n",
       "      <td>int64</td>\n",
       "      <td>0</td>\n",
       "      <td>3</td>\n",
       "    </tr>\n",
       "    <tr>\n",
       "      <th>experience_level</th>\n",
       "      <td>object</td>\n",
       "      <td>0</td>\n",
       "      <td>4</td>\n",
       "    </tr>\n",
       "    <tr>\n",
       "      <th>employment_type</th>\n",
       "      <td>object</td>\n",
       "      <td>0</td>\n",
       "      <td>4</td>\n",
       "    </tr>\n",
       "    <tr>\n",
       "      <th>job_title</th>\n",
       "      <td>object</td>\n",
       "      <td>0</td>\n",
       "      <td>87</td>\n",
       "    </tr>\n",
       "    <tr>\n",
       "      <th>salary_in_usd</th>\n",
       "      <td>int64</td>\n",
       "      <td>0</td>\n",
       "      <td>615</td>\n",
       "    </tr>\n",
       "    <tr>\n",
       "      <th>employee_residence</th>\n",
       "      <td>object</td>\n",
       "      <td>0</td>\n",
       "      <td>60</td>\n",
       "    </tr>\n",
       "    <tr>\n",
       "      <th>remote_ratio</th>\n",
       "      <td>int64</td>\n",
       "      <td>0</td>\n",
       "      <td>3</td>\n",
       "    </tr>\n",
       "    <tr>\n",
       "      <th>company_location</th>\n",
       "      <td>object</td>\n",
       "      <td>0</td>\n",
       "      <td>57</td>\n",
       "    </tr>\n",
       "    <tr>\n",
       "      <th>company_size</th>\n",
       "      <td>object</td>\n",
       "      <td>0</td>\n",
       "      <td>3</td>\n",
       "    </tr>\n",
       "  </tbody>\n",
       "</table>\n",
       "</div>"
      ],
      "text/plain": [
       "                   data_type  null_count  unique_count\n",
       "work_year              int64           0             3\n",
       "experience_level      object           0             4\n",
       "employment_type       object           0             4\n",
       "job_title             object           0            87\n",
       "salary_in_usd          int64           0           615\n",
       "employee_residence    object           0            60\n",
       "remote_ratio           int64           0             3\n",
       "company_location      object           0            57\n",
       "company_size          object           0             3"
      ]
     },
     "execution_count": 676,
     "metadata": {},
     "output_type": "execute_result"
    }
   ],
   "source": [
    "temp = pd.DataFrame(index=sl.columns)\n",
    "temp['data_type'] = sl.dtypes\n",
    "temp['null_count'] = sl.isnull().sum()\n",
    "temp['unique_count'] = sl.nunique()\n",
    "temp"
   ]
  },
  {
   "cell_type": "code",
   "execution_count": 638,
   "id": "1161d89f",
   "metadata": {},
   "outputs": [],
   "source": [
    "#sl.drop(['employment_type'],inplace = True, axis = 1)"
   ]
  },
  {
   "cell_type": "code",
   "execution_count": 639,
   "id": "bc881799",
   "metadata": {},
   "outputs": [],
   "source": [
    "#sl.drop(['company_size'],inplace = True, axis = 1)"
   ]
  },
  {
   "cell_type": "code",
   "execution_count": 677,
   "id": "1d361f36",
   "metadata": {},
   "outputs": [
    {
     "name": "stdout",
     "output_type": "stream",
     "text": [
      "2022    681\n",
      "2021    484\n",
      "2020    184\n",
      "Name: work_year, dtype: int64\n",
      "SE    622\n",
      "MI    433\n",
      "EN    218\n",
      "EX     76\n",
      "Name: experience_level, dtype: int64\n",
      "100    851\n",
      "0      251\n",
      "50     247\n",
      "Name: remote_ratio, dtype: int64\n",
      "L    798\n",
      "M    459\n",
      "S     92\n",
      "Name: company_size, dtype: int64\n",
      "FT    1326\n",
      "CT      11\n",
      "PT       9\n",
      "FL       3\n",
      "Name: employment_type, dtype: int64\n"
     ]
    }
   ],
   "source": [
    "print(sl['work_year'].value_counts())\n",
    "print(sl['experience_level'].value_counts())\n",
    "print(sl['remote_ratio'].value_counts())\n",
    "print(sl['company_size'].value_counts())\n",
    "print(sl['employment_type'].value_counts())\n"
   ]
  },
  {
   "cell_type": "code",
   "execution_count": 678,
   "id": "47a4b951",
   "metadata": {},
   "outputs": [],
   "source": [
    "sl.drop(['employment_type'],inplace = True, axis = 1)"
   ]
  },
  {
   "cell_type": "code",
   "execution_count": 679,
   "id": "0dbfd097",
   "metadata": {
    "scrolled": false
   },
   "outputs": [
    {
     "data": {
      "text/plain": [
       "<AxesSubplot:xlabel='remote_ratio', ylabel='count'>"
      ]
     },
     "execution_count": 679,
     "metadata": {},
     "output_type": "execute_result"
    },
    {
     "data": {
      "image/png": "[encoded data removed]",
      "text/plain": [
       "<Figure size 640x480 with 4 Axes>"
      ]
     },
     "metadata": {},
     "output_type": "display_data"
    }
   ],
   "source": [
    "fig, axs = plt.subplots(1,4)\n",
    "\n",
    "sns.countplot(sl['work_year'],ax=axs[0])\n",
    "sns.countplot(sl['company_size'],ax=axs[1])\n",
    "sns.countplot(sl['experience_level'],ax=axs[2])\n",
    "sns.countplot(sl['remote_ratio'],ax=axs[3])"
   ]
  },
  {
   "cell_type": "code",
   "execution_count": 642,
   "id": "28f1ae2a",
   "metadata": {
    "collapsed": true
   },
   "outputs": [
    {
     "data": {
      "text/plain": [
       "<AxesSubplot:xlabel='company_size', ylabel='count'>"
      ]
     },
     "execution_count": 642,
     "metadata": {},
     "output_type": "execute_result"
    },
    {
     "data": {
      "image/png": "[encoded data removed]",
      "text/plain": [
       "<Figure size 640x480 with 1 Axes>"
      ]
     },
     "metadata": {},
     "output_type": "display_data"
    }
   ],
   "source": [
    "sns.countplot(sl['company_size'])"
   ]
  },
  {
   "cell_type": "code",
   "execution_count": 643,
   "id": "bfbbc2fd",
   "metadata": {
    "collapsed": true
   },
   "outputs": [
    {
     "data": {
      "text/plain": [
       "<AxesSubplot:xlabel='experience_level', ylabel='count'>"
      ]
     },
     "execution_count": 643,
     "metadata": {},
     "output_type": "execute_result"
    },
    {
     "data": {
      "image/png": "[encoded data removed]",
      "text/plain": [
       "<Figure size 640x480 with 1 Axes>"
      ]
     },
     "metadata": {},
     "output_type": "display_data"
    }
   ],
   "source": [
    "sns.countplot(sl['experience_level'])"
   ]
  },
  {
   "cell_type": "code",
   "execution_count": 644,
   "id": "34bc5f4f",
   "metadata": {
    "collapsed": true
   },
   "outputs": [
    {
     "data": {
      "text/plain": [
       "<AxesSubplot:xlabel='remote_ratio', ylabel='count'>"
      ]
     },
     "execution_count": 644,
     "metadata": {},
     "output_type": "execute_result"
    },
    {
     "data": {
      "image/png": "[encoded data removed]",
      "text/plain": [
       "<Figure size 640x480 with 1 Axes>"
      ]
     },
     "metadata": {},
     "output_type": "display_data"
    }
   ],
   "source": [
    "sns.countplot(sl['remote_ratio'])"
   ]
  },
  {
   "cell_type": "code",
   "execution_count": 645,
   "id": "97e80511",
   "metadata": {},
   "outputs": [
    {
     "data": {
      "text/plain": [
       "<AxesSubplot:xlabel='work_year', ylabel='salary_in_usd'>"
      ]
     },
     "execution_count": 645,
     "metadata": {},
     "output_type": "execute_result"
    },
    {
     "data": {
      "image/png": "[encoded data removed]",
      "text/plain": [
       "<Figure size 640x480 with 2 Axes>"
      ]
     },
     "metadata": {},
     "output_type": "display_data"
    }
   ],
   "source": [
    "fig, axs = plt.subplots(1,2)\n",
    "sns.boxplot(sl['company_size'],sl['salary_in_usd'],ax=axs[0])\n",
    "sns.boxplot(sl['work_year'],sl['salary_in_usd'],ax = axs[1])"
   ]
  },
  {
   "cell_type": "code",
   "execution_count": 646,
   "id": "d29df7b2",
   "metadata": {
    "collapsed": true
   },
   "outputs": [
    {
     "data": {
      "text/plain": [
       "<AxesSubplot:xlabel='work_year', ylabel='salary_in_usd'>"
      ]
     },
     "execution_count": 646,
     "metadata": {},
     "output_type": "execute_result"
    },
    {
     "data": {
      "image/png": "[encoded data removed]",
      "text/plain": [
       "<Figure size 640x480 with 1 Axes>"
      ]
     },
     "metadata": {},
     "output_type": "display_data"
    }
   ],
   "source": [
    "sns.boxplot(sl['work_year'],sl['salary_in_usd'])"
   ]
  },
  {
   "cell_type": "code",
   "execution_count": 685,
   "id": "a9153e14",
   "metadata": {},
   "outputs": [
    {
     "data": {
      "text/plain": [
       "<AxesSubplot:xlabel='salary_in_usd', ylabel='Count'>"
      ]
     },
     "execution_count": 685,
     "metadata": {},
     "output_type": "execute_result"
    },
    {
     "data": {
      "image/png": "[encoded data removed]",
      "text/plain": [
       "<Figure size 640x480 with 1 Axes>"
      ]
     },
     "metadata": {},
     "output_type": "display_data"
    }
   ],
   "source": [
    "sns.histplot(sl['salary_in_usd'],kde = True, bins = 100)"
   ]
  },
  {
   "cell_type": "code",
   "execution_count": 656,
   "id": "17c9f15d",
   "metadata": {
    "scrolled": true
   },
   "outputs": [
    {
     "data": {
      "text/plain": [
       "<AxesSubplot:ylabel='job_title'>"
      ]
     },
     "execution_count": 656,
     "metadata": {},
     "output_type": "execute_result"
    },
    {
     "data": {
      "image/png": "[encoded data removed]",
      "text/plain": [
       "<Figure size 1500x300 with 1 Axes>"
      ]
     },
     "metadata": {},
     "output_type": "display_data"
    }
   ],
   "source": [
    "plt.figure(figsize=(15,3))\n",
    "sl1=pd.DataFrame(sl['job_title'].value_counts().head(5))\n",
    "sns.barplot(sl1.index,sl1['job_title'])"
   ]
  },
  {
   "cell_type": "code",
   "execution_count": 706,
   "id": "712d5bab",
   "metadata": {
    "collapsed": true
   },
   "outputs": [
    {
     "data": {
      "text/plain": [
       "<AxesSubplot:ylabel='company_location'>"
      ]
     },
     "execution_count": 706,
     "metadata": {},
     "output_type": "execute_result"
    },
    {
     "data": {
      "image/png": "[encoded data removed]",
      "text/plain": [
       "<Figure size 1500x300 with 1 Axes>"
      ]
     },
     "metadata": {},
     "output_type": "display_data"
    }
   ],
   "source": [
    "plt.figure(figsize=(15,3))\n",
    "sl2=pd.DataFrame(sl['company_location'].value_counts().head(5))\n",
    "sns.barplot(sl2.index,sl2['company_location'])"
   ]
  },
  {
   "cell_type": "code",
   "execution_count": 417,
   "id": "f6f7d2fc",
   "metadata": {},
   "outputs": [
    {
     "data": {
      "image/png": "[encoded data removed]",
      "text/plain": [
       "<Figure size 1500x300 with 1 Axes>"
      ]
     },
     "metadata": {},
     "output_type": "display_data"
    }
   ],
   "source": [
    "plt.figure(figsize=(15,3))\n",
    "sl1=pd.DataFrame(sl.groupby('company_location')[\"salary_in_usd\"].sum().sort_values(ascending=False).head(5))\n",
    "sns.barplot(sl1.index,sl1['salary_in_usd']);"
   ]
  },
  {
   "cell_type": "code",
   "execution_count": 690,
   "id": "f7eaa410",
   "metadata": {
    "collapsed": true
   },
   "outputs": [
    {
     "data": {
      "image/png": "[encoded data removed]",
      "text/plain": [
       "<Figure size 1500x300 with 1 Axes>"
      ]
     },
     "metadata": {},
     "output_type": "display_data"
    }
   ],
   "source": [
    "plt.figure(figsize=(15,3))\n",
    "sl1=pd.DataFrame(sl.groupby('job_title')[\"salary_in_usd\"].sum().sort_values(ascending=False).head(10))\n",
    "sns.barplot(sl1.index,sl1['salary_in_usd']);"
   ]
  },
  {
   "cell_type": "code",
   "execution_count": 419,
   "id": "50956d97",
   "metadata": {},
   "outputs": [
    {
     "data": {
      "text/plain": [
       "<AxesSubplot:xlabel='salary_in_usd'>"
      ]
     },
     "execution_count": 419,
     "metadata": {},
     "output_type": "execute_result"
    },
    {
     "data": {
      "image/png": "[encoded data removed]",
      "text/plain": [
       "<Figure size 640x480 with 1 Axes>"
      ]
     },
     "metadata": {},
     "output_type": "display_data"
    }
   ],
   "source": [
    "sns.boxplot(sl['salary_in_usd'])\n",
    "#outliers datalar"
   ]
  },
  {
   "cell_type": "code",
   "execution_count": 420,
   "id": "5d6e2b81",
   "metadata": {},
   "outputs": [],
   "source": [
    "out=[]\n",
    "def outlier(x):\n",
    "    threshold = 3\n",
    "    mean = np.mean(x)\n",
    "    std = np.std(x)\n",
    "    for i in x:\n",
    "        z = (i-mean)/std\n",
    "        if np.abs(z)>threshold:\n",
    "            out.append(i)\n",
    "    return out"
   ]
  },
  {
   "cell_type": "code",
   "execution_count": 421,
   "id": "345ac3de",
   "metadata": {},
   "outputs": [
    {
     "name": "stdout",
     "output_type": "stream",
     "text": [
      "[360000, 410000, 899920, 500000, 360000, 600000, 375000, 600000, 450000, 400000, 456621]\n"
     ]
    },
    {
     "data": {
      "text/plain": [
       "11"
      ]
     },
     "execution_count": 421,
     "metadata": {},
     "output_type": "execute_result"
    }
   ],
   "source": [
    "lst = outlier(sl['salary_in_usd'])\n",
    "print(lst)\n",
    "len(lst)"
   ]
  },
  {
   "cell_type": "code",
   "execution_count": 422,
   "id": "6a5197e2",
   "metadata": {},
   "outputs": [
    {
     "name": "stdout",
     "output_type": "stream",
     "text": [
      "Old Shape:  (1349, 8)\n",
      "Current Shape (1311, 8)\n"
     ]
    }
   ],
   "source": [
    "Q1 = np.percentile(sl[\"salary_in_usd\"], 25, interpolation = \"midpoint\")\n",
    "Q3 = np.percentile(sl['salary_in_usd'], 75, interpolation = \"midpoint\")\n",
    "IQR = Q3-Q1\n",
    "print('Old Shape: ',sl.shape)\n",
    "# lower line\n",
    "upper =np.where(sl[\"salary_in_usd\"] >= (Q3+1.5*IQR))\n",
    "# upper line\n",
    "lower = np.where(sl['salary_in_usd'] <= (Q1-1.5*IQR))\n",
    "sl.drop(upper[0],inplace=True)\n",
    "sl.drop(lower[0],inplace=True)\n",
    "print('Current Shape', sl.shape)"
   ]
  },
  {
   "cell_type": "code",
   "execution_count": 423,
   "id": "e8861a66",
   "metadata": {},
   "outputs": [],
   "source": [
    "# upper bound\n",
    "upper =np.where(sl[\"salary_in_usd\"] >= (Q3+1.5*IQR))\n",
    "# lower bound\n",
    "lower = np.where(sl['salary_in_usd'] <= (Q1-1.5*IQR))"
   ]
  },
  {
   "cell_type": "code",
   "execution_count": 424,
   "id": "91b34faa",
   "metadata": {},
   "outputs": [
    {
     "name": "stdout",
     "output_type": "stream",
     "text": [
      "New Shape (1311, 8)\n"
     ]
    }
   ],
   "source": [
    "sl.drop(upper[0],inplace=True)\n",
    "sl.drop(lower[0],inplace=True)\n",
    "print('New Shape', sl.shape)"
   ]
  },
  {
   "cell_type": "code",
   "execution_count": 425,
   "id": "a23e85eb",
   "metadata": {},
   "outputs": [
    {
     "data": {
      "text/plain": [
       "<AxesSubplot:xlabel='salary_in_usd'>"
      ]
     },
     "execution_count": 425,
     "metadata": {},
     "output_type": "execute_result"
    },
    {
     "data": {
      "image/png": "[encoded data removed]",
      "text/plain": [
       "<Figure size 640x480 with 1 Axes>"
      ]
     },
     "metadata": {},
     "output_type": "display_data"
    }
   ],
   "source": [
    "sns.boxplot(sl[\"salary_in_usd\"])"
   ]
  },
  {
   "cell_type": "code",
   "execution_count": 426,
   "id": "dcc14e71",
   "metadata": {},
   "outputs": [
    {
     "data": {
      "text/plain": [
       "work_year             0\n",
       "experience_level      0\n",
       "job_title             0\n",
       "salary_in_usd         0\n",
       "employee_residence    0\n",
       "remote_ratio          0\n",
       "company_location      0\n",
       "company_size          0\n",
       "dtype: int64"
      ]
     },
     "execution_count": 426,
     "metadata": {},
     "output_type": "execute_result"
    }
   ],
   "source": [
    "sl.isnull().sum()"
   ]
  },
  {
   "cell_type": "code",
   "execution_count": 682,
   "id": "76cce6de",
   "metadata": {
    "collapsed": true
   },
   "outputs": [
    {
     "data": {
      "text/html": [
       "<div>\n",
       "<style scoped>\n",
       "    .dataframe tbody tr th:only-of-type {\n",
       "        vertical-align: middle;\n",
       "    }\n",
       "\n",
       "    .dataframe tbody tr th {\n",
       "        vertical-align: top;\n",
       "    }\n",
       "\n",
       "    .dataframe thead th {\n",
       "        text-align: right;\n",
       "    }\n",
       "</style>\n",
       "<table border=\"1\" class=\"dataframe\">\n",
       "  <thead>\n",
       "    <tr style=\"text-align: right;\">\n",
       "      <th></th>\n",
       "      <th>data_type</th>\n",
       "      <th>null_count</th>\n",
       "      <th>unique_count</th>\n",
       "    </tr>\n",
       "  </thead>\n",
       "  <tbody>\n",
       "    <tr>\n",
       "      <th>work_year</th>\n",
       "      <td>int64</td>\n",
       "      <td>0</td>\n",
       "      <td>3</td>\n",
       "    </tr>\n",
       "    <tr>\n",
       "      <th>experience_level</th>\n",
       "      <td>object</td>\n",
       "      <td>0</td>\n",
       "      <td>4</td>\n",
       "    </tr>\n",
       "    <tr>\n",
       "      <th>job_title</th>\n",
       "      <td>object</td>\n",
       "      <td>0</td>\n",
       "      <td>87</td>\n",
       "    </tr>\n",
       "    <tr>\n",
       "      <th>salary_in_usd</th>\n",
       "      <td>int64</td>\n",
       "      <td>0</td>\n",
       "      <td>615</td>\n",
       "    </tr>\n",
       "    <tr>\n",
       "      <th>employee_residence</th>\n",
       "      <td>object</td>\n",
       "      <td>0</td>\n",
       "      <td>60</td>\n",
       "    </tr>\n",
       "    <tr>\n",
       "      <th>remote_ratio</th>\n",
       "      <td>int64</td>\n",
       "      <td>0</td>\n",
       "      <td>3</td>\n",
       "    </tr>\n",
       "    <tr>\n",
       "      <th>company_location</th>\n",
       "      <td>object</td>\n",
       "      <td>0</td>\n",
       "      <td>57</td>\n",
       "    </tr>\n",
       "    <tr>\n",
       "      <th>company_size</th>\n",
       "      <td>object</td>\n",
       "      <td>0</td>\n",
       "      <td>3</td>\n",
       "    </tr>\n",
       "  </tbody>\n",
       "</table>\n",
       "</div>"
      ],
      "text/plain": [
       "                   data_type  null_count  unique_count\n",
       "work_year              int64           0             3\n",
       "experience_level      object           0             4\n",
       "job_title             object           0            87\n",
       "salary_in_usd          int64           0           615\n",
       "employee_residence    object           0            60\n",
       "remote_ratio           int64           0             3\n",
       "company_location      object           0            57\n",
       "company_size          object           0             3"
      ]
     },
     "execution_count": 682,
     "metadata": {},
     "output_type": "execute_result"
    }
   ],
   "source": [
    "temp = pd.DataFrame(index=sl.columns)\n",
    "temp['data_type'] = sl.dtypes\n",
    "temp['null_count'] = sl.isnull().sum()\n",
    "temp['unique_count'] = sl.nunique()\n",
    "temp"
   ]
  },
  {
   "cell_type": "code",
   "execution_count": 681,
   "id": "f15952eb",
   "metadata": {},
   "outputs": [
    {
     "data": {
      "text/plain": [
       "work_year              int64\n",
       "experience_level      object\n",
       "job_title             object\n",
       "salary_in_usd          int64\n",
       "employee_residence    object\n",
       "remote_ratio           int64\n",
       "company_location      object\n",
       "company_size          object\n",
       "dtype: object"
      ]
     },
     "execution_count": 681,
     "metadata": {},
     "output_type": "execute_result"
    }
   ],
   "source": [
    "sl.dtypes"
   ]
  },
  {
   "cell_type": "code",
   "execution_count": 683,
   "id": "e911331d",
   "metadata": {},
   "outputs": [],
   "source": [
    "for label, content in sl.items():\n",
    "    if pd.api.types.is_string_dtype(content):\n",
    "        sl[label] = content.astype('category').cat.as_ordered()"
   ]
  },
  {
   "cell_type": "code",
   "execution_count": 684,
   "id": "e05f4ccf",
   "metadata": {},
   "outputs": [
    {
     "data": {
      "text/plain": [
       "work_year                int64\n",
       "experience_level      category\n",
       "job_title             category\n",
       "salary_in_usd            int64\n",
       "employee_residence    category\n",
       "remote_ratio             int64\n",
       "company_location      category\n",
       "company_size          category\n",
       "dtype: object"
      ]
     },
     "execution_count": 684,
     "metadata": {},
     "output_type": "execute_result"
    }
   ],
   "source": [
    "sl.dtypes"
   ]
  },
  {
   "cell_type": "code",
   "execution_count": 431,
   "id": "20a98db0",
   "metadata": {},
   "outputs": [
    {
     "data": {
      "text/html": [
       "<div>\n",
       "<style scoped>\n",
       "    .dataframe tbody tr th:only-of-type {\n",
       "        vertical-align: middle;\n",
       "    }\n",
       "\n",
       "    .dataframe tbody tr th {\n",
       "        vertical-align: top;\n",
       "    }\n",
       "\n",
       "    .dataframe thead th {\n",
       "        text-align: right;\n",
       "    }\n",
       "</style>\n",
       "<table border=\"1\" class=\"dataframe\">\n",
       "  <thead>\n",
       "    <tr style=\"text-align: right;\">\n",
       "      <th></th>\n",
       "      <th>work_year</th>\n",
       "      <th>experience_level</th>\n",
       "      <th>job_title</th>\n",
       "      <th>salary_in_usd</th>\n",
       "      <th>employee_residence</th>\n",
       "      <th>remote_ratio</th>\n",
       "      <th>company_location</th>\n",
       "      <th>company_size</th>\n",
       "    </tr>\n",
       "  </thead>\n",
       "  <tbody>\n",
       "    <tr>\n",
       "      <th>0</th>\n",
       "      <td>3</td>\n",
       "      <td>1</td>\n",
       "      <td>47</td>\n",
       "      <td>208</td>\n",
       "      <td>18</td>\n",
       "      <td>3</td>\n",
       "      <td>18</td>\n",
       "      <td>3</td>\n",
       "    </tr>\n",
       "    <tr>\n",
       "      <th>1</th>\n",
       "      <td>3</td>\n",
       "      <td>4</td>\n",
       "      <td>71</td>\n",
       "      <td>400</td>\n",
       "      <td>58</td>\n",
       "      <td>1</td>\n",
       "      <td>55</td>\n",
       "      <td>2</td>\n",
       "    </tr>\n",
       "    <tr>\n",
       "      <th>2</th>\n",
       "      <td>3</td>\n",
       "      <td>4</td>\n",
       "      <td>71</td>\n",
       "      <td>274</td>\n",
       "      <td>58</td>\n",
       "      <td>1</td>\n",
       "      <td>55</td>\n",
       "      <td>2</td>\n",
       "    </tr>\n",
       "    <tr>\n",
       "      <th>3</th>\n",
       "      <td>3</td>\n",
       "      <td>4</td>\n",
       "      <td>68</td>\n",
       "      <td>483</td>\n",
       "      <td>58</td>\n",
       "      <td>3</td>\n",
       "      <td>55</td>\n",
       "      <td>2</td>\n",
       "    </tr>\n",
       "    <tr>\n",
       "      <th>4</th>\n",
       "      <td>3</td>\n",
       "      <td>4</td>\n",
       "      <td>68</td>\n",
       "      <td>372</td>\n",
       "      <td>58</td>\n",
       "      <td>3</td>\n",
       "      <td>55</td>\n",
       "      <td>2</td>\n",
       "    </tr>\n",
       "    <tr>\n",
       "      <th>...</th>\n",
       "      <td>...</td>\n",
       "      <td>...</td>\n",
       "      <td>...</td>\n",
       "      <td>...</td>\n",
       "      <td>...</td>\n",
       "      <td>...</td>\n",
       "      <td>...</td>\n",
       "      <td>...</td>\n",
       "    </tr>\n",
       "    <tr>\n",
       "      <th>1344</th>\n",
       "      <td>1</td>\n",
       "      <td>3</td>\n",
       "      <td>14</td>\n",
       "      <td>306</td>\n",
       "      <td>5</td>\n",
       "      <td>2</td>\n",
       "      <td>6</td>\n",
       "      <td>2</td>\n",
       "    </tr>\n",
       "    <tr>\n",
       "      <th>1345</th>\n",
       "      <td>2</td>\n",
       "      <td>4</td>\n",
       "      <td>46</td>\n",
       "      <td>252</td>\n",
       "      <td>26</td>\n",
       "      <td>2</td>\n",
       "      <td>26</td>\n",
       "      <td>1</td>\n",
       "    </tr>\n",
       "    <tr>\n",
       "      <th>1346</th>\n",
       "      <td>2</td>\n",
       "      <td>4</td>\n",
       "      <td>58</td>\n",
       "      <td>408</td>\n",
       "      <td>58</td>\n",
       "      <td>3</td>\n",
       "      <td>55</td>\n",
       "      <td>1</td>\n",
       "    </tr>\n",
       "    <tr>\n",
       "      <th>1347</th>\n",
       "      <td>2</td>\n",
       "      <td>3</td>\n",
       "      <td>40</td>\n",
       "      <td>134</td>\n",
       "      <td>26</td>\n",
       "      <td>3</td>\n",
       "      <td>26</td>\n",
       "      <td>1</td>\n",
       "    </tr>\n",
       "    <tr>\n",
       "      <th>1348</th>\n",
       "      <td>2</td>\n",
       "      <td>3</td>\n",
       "      <td>82</td>\n",
       "      <td>181</td>\n",
       "      <td>58</td>\n",
       "      <td>1</td>\n",
       "      <td>55</td>\n",
       "      <td>1</td>\n",
       "    </tr>\n",
       "  </tbody>\n",
       "</table>\n",
       "<p>1311 rows × 8 columns</p>\n",
       "</div>"
      ],
      "text/plain": [
       "      work_year  experience_level  job_title  salary_in_usd  \\\n",
       "0             3                 1         47            208   \n",
       "1             3                 4         71            400   \n",
       "2             3                 4         71            274   \n",
       "3             3                 4         68            483   \n",
       "4             3                 4         68            372   \n",
       "...         ...               ...        ...            ...   \n",
       "1344          1                 3         14            306   \n",
       "1345          2                 4         46            252   \n",
       "1346          2                 4         58            408   \n",
       "1347          2                 3         40            134   \n",
       "1348          2                 3         82            181   \n",
       "\n",
       "      employee_residence  remote_ratio  company_location  company_size  \n",
       "0                     18             3                18             3  \n",
       "1                     58             1                55             2  \n",
       "2                     58             1                55             2  \n",
       "3                     58             3                55             2  \n",
       "4                     58             3                55             2  \n",
       "...                  ...           ...               ...           ...  \n",
       "1344                   5             2                 6             2  \n",
       "1345                  26             2                26             1  \n",
       "1346                  58             3                55             1  \n",
       "1347                  26             3                26             1  \n",
       "1348                  58             1                55             1  \n",
       "\n",
       "[1311 rows x 8 columns]"
      ]
     },
     "execution_count": 431,
     "metadata": {},
     "output_type": "execute_result"
    }
   ],
   "source": [
    "for label,content in sl.items():\n",
    "    sl[label] = pd.Categorical(content).codes+1\n",
    "sl"
   ]
  },
  {
   "cell_type": "code",
   "execution_count": 432,
   "id": "0913115b",
   "metadata": {},
   "outputs": [
    {
     "name": "stdout",
     "output_type": "stream",
     "text": [
      "1\n",
      "586\n"
     ]
    }
   ],
   "source": [
    "print(sl[\"salary_in_usd\"].min())\n",
    "print(sl[\"salary_in_usd\"].max())"
   ]
  },
  {
   "cell_type": "code",
   "execution_count": 433,
   "id": "bc92fde7",
   "metadata": {},
   "outputs": [
    {
     "data": {
      "text/plain": [
       "586"
      ]
     },
     "execution_count": 433,
     "metadata": {},
     "output_type": "execute_result"
    }
   ],
   "source": [
    "sl[\"salary_in_usd\"].max()"
   ]
  },
  {
   "cell_type": "code",
   "execution_count": 436,
   "id": "b841da63",
   "metadata": {},
   "outputs": [],
   "source": [
    "from sklearn.model_selection import train_test_split"
   ]
  },
  {
   "cell_type": "code",
   "execution_count": 437,
   "id": "612df72d",
   "metadata": {},
   "outputs": [],
   "source": [
    "X = sl.drop('salary_in_usd', axis = 1)\n",
    "y = sl['salary_in_usd']"
   ]
  },
  {
   "cell_type": "code",
   "execution_count": 438,
   "id": "1e75ee37",
   "metadata": {},
   "outputs": [],
   "source": [
    "X_train, X_test, y_train, y_test = train_test_split(X, y, test_size=0.33, random_state=40)"
   ]
  },
  {
   "cell_type": "code",
   "execution_count": 521,
   "id": "530ffb6e",
   "metadata": {},
   "outputs": [],
   "source": [
    "from sklearn.metrics import mean_absolute_error as mean_absolute_error\n",
    "from sklearn.metrics import mean_squared_error as mse\n",
    "from sklearn.linear_model import LinearRegression"
   ]
  },
  {
   "cell_type": "code",
   "execution_count": 522,
   "id": "741089de",
   "metadata": {},
   "outputs": [],
   "source": [
    "lr = LinearRegression()"
   ]
  },
  {
   "cell_type": "code",
   "execution_count": 523,
   "id": "809f2626",
   "metadata": {
    "collapsed": true
   },
   "outputs": [
    {
     "data": {
      "text/plain": [
       "LinearRegression()"
      ]
     },
     "execution_count": 523,
     "metadata": {},
     "output_type": "execute_result"
    }
   ],
   "source": [
    "lr.fit(X_train,y_train)"
   ]
  },
  {
   "cell_type": "code",
   "execution_count": 533,
   "id": "8e8e4ce4",
   "metadata": {
    "scrolled": true
   },
   "outputs": [
    {
     "name": "stdout",
     "output_type": "stream",
     "text": [
      "Training Mean Absolute Error for Linear Regression Model is 96.54084211505389\n"
     ]
    }
   ],
   "source": [
    "train_predict = lr.predict(X_train)\n",
    "k = mean_absolute_error(train_predict, y_train)\n",
    "print('Training Mean Absolute Error for Linear Regression Model is',k)"
   ]
  },
  {
   "cell_type": "code",
   "execution_count": 534,
   "id": "300bc1b1",
   "metadata": {},
   "outputs": [
    {
     "name": "stdout",
     "output_type": "stream",
     "text": [
      "Testing Mean Absoulte Error for Linear Regression Model is 98.2597820826245\n"
     ]
    }
   ],
   "source": [
    "test_predict = lr.predict(X_test)\n",
    "k = mean_absolute_error(test_predict, y_test)\n",
    "print('Testing Mean Absoulte Error for Linear Regression Model is', k)"
   ]
  },
  {
   "cell_type": "code",
   "execution_count": 535,
   "id": "33d76ebf",
   "metadata": {},
   "outputs": [
    {
     "name": "stdout",
     "output_type": "stream",
     "text": [
      "Mean Squared Error for Linear Regression Model is 124.5333771529128\n"
     ]
    }
   ],
   "source": [
    "lr_pred = lr.predict(X_test)\n",
    "print(\"Mean Squared Error for Linear Regression Model is\", np.sqrt(mse(y_test,lr_pred)))"
   ]
  },
  {
   "cell_type": "code",
   "execution_count": 468,
   "id": "5a3c219b",
   "metadata": {
    "collapsed": true
   },
   "outputs": [
    {
     "data": {
      "text/plain": [
       "RandomForestRegressor(n_jobs=-1)"
      ]
     },
     "execution_count": 468,
     "metadata": {},
     "output_type": "execute_result"
    }
   ],
   "source": [
    "from sklearn.ensemble import RandomForestRegressor\n",
    "rfr = RandomForestRegressor(n_jobs=-1)\n",
    "rfr.fit(X_train,y_train)"
   ]
  },
  {
   "cell_type": "code",
   "execution_count": 543,
   "id": "4f95329e",
   "metadata": {},
   "outputs": [
    {
     "name": "stdout",
     "output_type": "stream",
     "text": [
      "Training Mean Absolute Error for Random Forest Regression is: 42.03876327551028\n"
     ]
    }
   ],
   "source": [
    "train_predict = rfr.predict(X_train)\n",
    "k = mae(train_predict, y_train)\n",
    "print('Training Mean Absolute Error for Random Forest Regression is:',k)"
   ]
  },
  {
   "cell_type": "code",
   "execution_count": 542,
   "id": "93352e9f",
   "metadata": {},
   "outputs": [
    {
     "name": "stdout",
     "output_type": "stream",
     "text": [
      "Testing Mean Absolute Error for Random Forest Regression is:  85.014923148833\n"
     ]
    }
   ],
   "source": [
    "test_predict = rfr.predict(X_test)\n",
    "k = mae(test_predict, y_test)\n",
    "print('Testing Mean Absolute Error for Random Forest Regression is: ',k)"
   ]
  },
  {
   "cell_type": "code",
   "execution_count": 541,
   "id": "1cd8960a",
   "metadata": {
    "scrolled": true
   },
   "outputs": [
    {
     "name": "stdout",
     "output_type": "stream",
     "text": [
      "Mean Squared Error for Random Forest Regression is 109.13021038090048\n"
     ]
    }
   ],
   "source": [
    "rfr_pred = rfr.predict(X_test)\n",
    "print(\"Mean Squared Error for Random Forest Regression is\", np.sqrt(mse(y_test,rfr_pred)))"
   ]
  },
  {
   "cell_type": "code",
   "execution_count": null,
   "id": "f630e8bd",
   "metadata": {},
   "outputs": [],
   "source": [
    "knr_pred = knr.predict(X_test)"
   ]
  },
  {
   "cell_type": "code",
   "execution_count": 471,
   "id": "b1f8e9d4",
   "metadata": {},
   "outputs": [],
   "source": [
    "from sklearn.neighbors import KNeighborsRegressor"
   ]
  },
  {
   "cell_type": "code",
   "execution_count": 473,
   "id": "692d4c6f",
   "metadata": {
    "collapsed": true
   },
   "outputs": [
    {
     "data": {
      "text/plain": [
       "KNeighborsRegressor()"
      ]
     },
     "execution_count": 473,
     "metadata": {},
     "output_type": "execute_result"
    }
   ],
   "source": [
    "knr = KNeighborsRegressor()\n",
    "knr.fit(X_train, y_train)"
   ]
  },
  {
   "cell_type": "code",
   "execution_count": 539,
   "id": "6435e36b",
   "metadata": {},
   "outputs": [
    {
     "name": "stdout",
     "output_type": "stream",
     "text": [
      "Training Mean Absolute Error for K Neighbors Regression is: 77.24350797266513\n"
     ]
    }
   ],
   "source": [
    "train_predict = knr.predict(X_train)\n",
    "k = mae(train_predict, y_train)\n",
    "print('Training Mean Absolute Error for K Neighbors Regression is:',k)"
   ]
  },
  {
   "cell_type": "code",
   "execution_count": 540,
   "id": "273b902f",
   "metadata": {
    "scrolled": true
   },
   "outputs": [
    {
     "name": "stdout",
     "output_type": "stream",
     "text": [
      "Testing Mean Absolute Error for K Neighbors Regression is:  90.75196304849884\n"
     ]
    }
   ],
   "source": [
    "test_predict = knr.predict(X_test)\n",
    "k = mae(test_predict, y_test)\n",
    "print('Testing Mean Absolute Error for K Neighbors Regression is: ',k)"
   ]
  },
  {
   "cell_type": "code",
   "execution_count": 538,
   "id": "10968ce0",
   "metadata": {},
   "outputs": [
    {
     "name": "stdout",
     "output_type": "stream",
     "text": [
      "Mean Squared Error for K Neigbors Regression Model is 117.01300217917594\n"
     ]
    }
   ],
   "source": [
    "knr_pred = knr.predict(X_test)\n",
    "print(\"Mean Squared Error for K Neigbors Regression Model is\",np.sqrt(mse(y_test,knr_pred)))"
   ]
  },
  {
   "cell_type": "code",
   "execution_count": 516,
   "id": "1fdaf7c2",
   "metadata": {
    "collapsed": true
   },
   "outputs": [
    {
     "data": {
      "text/plain": [
       "DecisionTreeRegressor()"
      ]
     },
     "execution_count": 516,
     "metadata": {},
     "output_type": "execute_result"
    }
   ],
   "source": [
    "from sklearn.tree import DecisionTreeRegressor\n",
    "dtr = DecisionTreeRegressor()\n",
    "dtr.fit(X_train,y_train)"
   ]
  },
  {
   "cell_type": "code",
   "execution_count": 546,
   "id": "9f58068c",
   "metadata": {
    "scrolled": true
   },
   "outputs": [
    {
     "name": "stdout",
     "output_type": "stream",
     "text": [
      "Training Mean Absolute Error for Decision Tree Regression is:  24.00161392644308\n"
     ]
    }
   ],
   "source": [
    "train_predict = dtr.predict(X_train)\n",
    "k = mae(train_predict, y_train)\n",
    "print('Training Mean Absolute Error for Decision Tree Regression is: ',k)"
   ]
  },
  {
   "cell_type": "code",
   "execution_count": 545,
   "id": "67f9cdd3",
   "metadata": {
    "scrolled": true
   },
   "outputs": [
    {
     "name": "stdout",
     "output_type": "stream",
     "text": [
      "Testing Mean Absolute Error for Decision Tree Reggression is:  99.77537333080058\n"
     ]
    }
   ],
   "source": [
    "test_predict = dtr.predict(X_test)\n",
    "k = mae(test_predict, y_test)\n",
    "print('Testing Mean Absolute Error for Decision Tree Reggression is: ',k)"
   ]
  },
  {
   "cell_type": "code",
   "execution_count": 544,
   "id": "00d83a64",
   "metadata": {},
   "outputs": [
    {
     "name": "stdout",
     "output_type": "stream",
     "text": [
      "Mean Squared Error for Decision Tree Regression Model is 133.43739110544476\n"
     ]
    }
   ],
   "source": [
    "dtr_pred = dtr.predict(X_test)\n",
    "print(\"Mean Squared Error for Decision Tree Regression Model is\",np.sqrt(mse(y_test,dtr_pred)))"
   ]
  },
  {
   "cell_type": "code",
   "execution_count": 487,
   "id": "350e18d5",
   "metadata": {},
   "outputs": [],
   "source": [
    "rfr_pred = rfr.predict(X_test)"
   ]
  },
  {
   "cell_type": "code",
   "execution_count": 497,
   "id": "84a7c328",
   "metadata": {},
   "outputs": [],
   "source": [
    "pred\n",
    "lr_pred = lr.predict(X_test)\n",
    "dtr_pred = dtr.predict(X_test)\n",
    "knr_pred = knr.predict(X_test)"
   ]
  },
  {
   "cell_type": "code",
   "execution_count": 484,
   "id": "99f91f48",
   "metadata": {},
   "outputs": [],
   "source": [
    "from sklearn.metrics import mean_squared_error as mse"
   ]
  },
  {
   "cell_type": "code",
   "execution_count": 491,
   "id": "d8816b1f",
   "metadata": {},
   "outputs": [
    {
     "data": {
      "text/plain": [
       "109.13021038090048"
      ]
     },
     "execution_count": 491,
     "metadata": {},
     "output_type": "execute_result"
    }
   ],
   "source": [
    "np.sqrt(mse(y_test,rfr_pred))"
   ]
  },
  {
   "cell_type": "code",
   "execution_count": 493,
   "id": "e583d293",
   "metadata": {},
   "outputs": [
    {
     "data": {
      "text/plain": [
       "124.5333771529128"
      ]
     },
     "execution_count": 493,
     "metadata": {},
     "output_type": "execute_result"
    }
   ],
   "source": [
    "np.sqrt(mse(y_test,lr_pred))"
   ]
  },
  {
   "cell_type": "code",
   "execution_count": 496,
   "id": "d868bc5c",
   "metadata": {},
   "outputs": [
    {
     "data": {
      "text/plain": [
       "134.07877816344916"
      ]
     },
     "execution_count": 496,
     "metadata": {},
     "output_type": "execute_result"
    }
   ],
   "source": [
    "np.sqrt(mse(y_test,dtr_pred))"
   ]
  },
  {
   "cell_type": "code",
   "execution_count": 498,
   "id": "a0d766bf",
   "metadata": {},
   "outputs": [
    {
     "data": {
      "text/plain": [
       "117.01300217917594"
      ]
     },
     "execution_count": 498,
     "metadata": {},
     "output_type": "execute_result"
    }
   ],
   "source": [
    "np.sqrt(mse(y_test,knr_pred))"
   ]
  },
  {
   "cell_type": "code",
   "execution_count": 520,
   "id": "caebddd2",
   "metadata": {},
   "outputs": [
    {
     "data": {
      "text/plain": [
       "5"
      ]
     },
     "execution_count": 520,
     "metadata": {},
     "output_type": "execute_result"
    }
   ],
   "source": [
    "knr.n_neighbors"
   ]
  },
  {
   "cell_type": "code",
   "execution_count": 593,
   "id": "7f02a907",
   "metadata": {},
   "outputs": [],
   "source": [
    "#tuning-hiperparametre ayarlaması"
   ]
  },
  {
   "cell_type": "code",
   "execution_count": 589,
   "id": "165176d2",
   "metadata": {},
   "outputs": [],
   "source": [
    "rfr_params = {'max_depth': list(range(1,10)),\n",
    "            'max_features': [3,5,10,15],\n",
    "            'n_estimators' : [100, 200, 500, 1000, 2000]}"
   ]
  },
  {
   "cell_type": "code",
   "execution_count": 590,
   "id": "78a9f869",
   "metadata": {},
   "outputs": [],
   "source": [
    "rfr_cv_model = GridSearchCV(rfr, \n",
    "                           rf_params, \n",
    "                           cv = 10, \n",
    "                            n_jobs = -1)"
   ]
  },
  {
   "cell_type": "code",
   "execution_count": 592,
   "id": "8cc0f84c",
   "metadata": {},
   "outputs": [],
   "source": [
    "from sklearn.model_selection import GridSearchCV\n"
   ]
  },
  {
   "cell_type": "code",
   "execution_count": 556,
   "id": "4d07ef54",
   "metadata": {
    "collapsed": true
   },
   "outputs": [
    {
     "data": {
      "text/plain": [
       "GridSearchCV(cv=10, estimator=RandomForestRegressor(n_jobs=-1), n_jobs=-1,\n",
       "             param_grid={'max_depth': [1, 2, 3, 4, 5, 6, 7, 8, 9],\n",
       "                         'max_features': [3, 5, 10, 15],\n",
       "                         'n_estimators': [100, 200, 500, 1000, 2000]})"
      ]
     },
     "execution_count": 556,
     "metadata": {},
     "output_type": "execute_result"
    }
   ],
   "source": [
    "rfr_cv_model.fit(X_train, y_train)"
   ]
  },
  {
   "cell_type": "code",
   "execution_count": 557,
   "id": "fb4abcde",
   "metadata": {
    "collapsed": true
   },
   "outputs": [
    {
     "data": {
      "text/plain": [
       "{'max_depth': 9, 'max_features': 3, 'n_estimators': 500}"
      ]
     },
     "execution_count": 557,
     "metadata": {},
     "output_type": "execute_result"
    }
   ],
   "source": [
    "rfr_cv_model.best_params_"
   ]
  },
  {
   "cell_type": "code",
   "execution_count": 558,
   "id": "b5c3bb23",
   "metadata": {},
   "outputs": [],
   "source": [
    "rfr_tuned = RandomForestRegressor(max_depth=9,\n",
    "                                 max_features=3, \n",
    "                                 n_estimators = 500)"
   ]
  },
  {
   "cell_type": "code",
   "execution_count": 559,
   "id": "ac31ccda",
   "metadata": {
    "collapsed": true
   },
   "outputs": [
    {
     "data": {
      "text/plain": [
       "RandomForestRegressor(max_depth=9, max_features=3, n_estimators=500)"
      ]
     },
     "execution_count": 559,
     "metadata": {},
     "output_type": "execute_result"
    }
   ],
   "source": [
    "rfr_tuned.fit(X_train,y_train)"
   ]
  },
  {
   "cell_type": "code",
   "execution_count": 594,
   "id": "9714f4ec",
   "metadata": {},
   "outputs": [
    {
     "name": "stdout",
     "output_type": "stream",
     "text": [
      "Tuning mean squared Error for Random Forest Regression Model is 101.31464736022149\n"
     ]
    }
   ],
   "source": [
    "y_pred = rf_tuned.predict(X_test)\n",
    "print(\"Tuning mean squared Error for Random Forest Regression Model is\", np.sqrt(mse(y_test,y_pred)))"
   ]
  },
  {
   "cell_type": "code",
   "execution_count": 588,
   "id": "4053d9a0",
   "metadata": {
    "scrolled": false
   },
   "outputs": [
    {
     "data": {
      "image/png": "[encoded data removed]",
      "text/plain": [
       "<Figure size 640x480 with 1 Axes>"
      ]
     },
     "metadata": {},
     "output_type": "display_data"
    }
   ],
   "source": [
    "model_ranks = pd.Series(rf_tuned.feature_importances_*100,\n",
    "                        index = X_train.columns,name = 'Importance').sort_values(ascending=True,inplace=False) \n",
    "ax = model_ranks. plot(kind = \"barh\")"
   ]
  },
  {
   "cell_type": "code",
   "execution_count": 692,
   "id": "49dc25ae",
   "metadata": {},
   "outputs": [],
   "source": [
    "    from sklearn.metrics import r2_score"
   ]
  },
  {
   "cell_type": "code",
   "execution_count": 700,
   "id": "b74e9ede",
   "metadata": {},
   "outputs": [
    {
     "data": {
      "text/plain": [
       "0.5684172524675366"
      ]
     },
     "execution_count": 700,
     "metadata": {},
     "output_type": "execute_result"
    }
   ],
   "source": [
    "r2_score(y_test, y_pred)"
   ]
  },
  {
   "cell_type": "code",
   "execution_count": null,
   "id": "1955884b",
   "metadata": {},
   "outputs": [],
   "source": []
  }
 ],
 "metadata": {
  "kernelspec": {
   "display_name": "Python 3 (ipykernel)",
   "language": "python",
   "name": "python3"
  },
  "language_info": {
   "codemirror_mode": {
    "name": "ipython",
    "version": 3
   },
   "file_extension": ".py",
   "mimetype": "text/x-python",
   "name": "python",
   "nbconvert_exporter": "python",
   "pygments_lexer": "ipython3",
   "version": "3.9.13"
  }
 },
 "nbformat": 4,
 "nbformat_minor": 5
}
